{
 "cells": [
  {
   "cell_type": "code",
   "execution_count": 1,
   "metadata": {},
   "outputs": [],
   "source": [
    "import serial\n",
    "import time\n",
    "import numpy\n",
    "from PIL import Image\n",
    "from matplotlib import pyplot as plt"
   ]
  },
  {
   "cell_type": "code",
   "execution_count": 2,
   "metadata": {},
   "outputs": [],
   "source": [
    "ERROR_CODE = {\n",
    "    0x00: '操作成功',\n",
    "    0x01: '操作失败',\n",
    "    0x04: '指纹数据库已满',\n",
    "    0x05: '无此用户',\n",
    "    0x06: '用户已存在',\n",
    "    0x07: '指纹已存在 ',\n",
    "    0x08: '采集超时'\n",
    "}"
   ]
  },
  {
   "cell_type": "code",
   "execution_count": 4,
   "metadata": {},
   "outputs": [],
   "source": [
    "serialPort = \"COM6\"  # 串口\n",
    "baudRate = 9600  # 波特率\n",
    "ser = serial.Serial(serialPort, baudRate, timeout=0.5)"
   ]
  },
  {
   "cell_type": "code",
   "execution_count": 4,
   "metadata": {},
   "outputs": [
    {
     "name": "stdout",
     "output_type": "stream",
     "text": [
      "[245, 9, 0, 0, 0, 0, 9, 245]\n",
      "0xF5,0x09,0x00,0x00,0x00,0x00,0x09,0xF5\n"
     ]
    }
   ],
   "source": [
    "a = 'F5 09 00 00 00 00 09 F5'\n",
    "print(list(map(lambda x: int(x, 16), a.split(' '))))  # 十进制\n",
    "print(','.join(['0x' + i for i in a.split(' ')]))    # 16 进制"
   ]
  },
  {
   "cell_type": "code",
   "execution_count": 5,
   "metadata": {
    "scrolled": true
   },
   "outputs": [
    {
     "name": "stdout",
     "output_type": "stream",
     "text": [
      "b'\\xf5\\t\\x00\\x05\\x00\\x00\\x0c\\xf5'\n"
     ]
    }
   ],
   "source": [
    "# 测试连接\n",
    "\n",
    "# 16 进制发送与 十进制 发送效果一样， 不用 bytes(0) 也一样\n",
    "order = bytes([245, 9, 0, 0, 0, 0, 9, 245])\n",
    "# order = [0xF5,0x09,0x00,0x00,0x00,0x00,0x09,0xF5]\n",
    "\n",
    "if ser.isOpen():\n",
    "    ser.flushInput()\n",
    "    ser.write(order)\n",
    "    time.sleep(1)\n",
    "    num = ser.in_waiting\n",
    "    if num > 0:\n",
    "        response = ser.read(num)\n",
    "        print(response)\n",
    "#         time = datetime.datetime.now()\n",
    "#         time = time.strftime('%Y-%m-%d %H:%M:%S')\n",
    "    else:\n",
    "        print(num)\n",
    "else:\n",
    "    print('Not Open!')\n",
    "\n"
   ]
  },
  {
   "cell_type": "code",
   "execution_count": 6,
   "metadata": {},
   "outputs": [
    {
     "data": {
      "text/plain": [
       "0"
      ]
     },
     "execution_count": 6,
     "metadata": {},
     "output_type": "execute_result"
    }
   ],
   "source": [
    "ser.in_waiting"
   ]
  },
  {
   "cell_type": "code",
   "execution_count": 5,
   "metadata": {},
   "outputs": [],
   "source": [
    "def send(order, wait=False):\n",
    "    if ser.isOpen():\n",
    "        ser.flushInput()\n",
    "        ser.write(order)\n",
    "        time.sleep(1)\n",
    "        num = ser.in_waiting\n",
    "        if num > 0:\n",
    "            response = ser.read(num)\n",
    "            # print(response)\n",
    "            return response\n",
    "    #         time = datetime.datetime.now()\n",
    "    #         time = time.strftime('%Y-%m-%d %H:%M:%S')\n",
    "        if wait:\n",
    "            print('Waitting.')\n",
    "            # 等待录入\n",
    "            while not ser.in_waiting:\n",
    "                time.sleep(.5)\n",
    "            # 等待上传\n",
    "            time.sleep(10.2)\n",
    "            num = ser.in_waiting\n",
    "            return ser.read(num)\n",
    "    else:\n",
    "        print('Not Open!')\n",
    "\n",
    "\n",
    "def build_request(data):\n",
    "    # 添加边界符和校验位\n",
    "    order = [0xF5, *data, calculate_check(data), 0xF5]\n",
    "    return order\n",
    "\n",
    "\n",
    "def parse_response(response):\n",
    "    # 去边界符和校验位\n",
    "    if len(response) == 8:\n",
    "        # return [hex(i)[2:] for i in response[1:-2]]\n",
    "        return response[1:-2]\n",
    "\n",
    "    elif len(response) > 8:\n",
    "        # header = [hex(i)[2:] for i in response[1:7]]\n",
    "        # body = [hex(i)[2:] for i in response[9:-2]]\n",
    "        header = response[1:7]\n",
    "        body = response[9:-2]\n",
    "\n",
    "        return header, body\n",
    "\n",
    "\n",
    "# 计算校验和\n",
    "def calculate_check(data):\n",
    "    check = data[0]\n",
    "    for i in data[1:]:\n",
    "        check ^= i\n",
    "    return check"
   ]
  },
  {
   "cell_type": "markdown",
   "metadata": {},
   "source": [
    "### 休眠 谨慎操作"
   ]
  },
  {
   "cell_type": "code",
   "execution_count": null,
   "metadata": {},
   "outputs": [],
   "source": [
    "order = [0xF5, 0x2C, 0, 0, 0, 0, 0x2c, 0xF5]\n",
    "\n",
    "ser.write(order)\n",
    "time.sleep(0.5)\n",
    "num = ser.in_waiting\n",
    "\n",
    "if num > 0:\n",
    "    response = ser.read(num)\n",
    "    print(response)\n",
    "\n",
    "    # 应答报文与 发送一致"
   ]
  },
  {
   "cell_type": "markdown",
   "metadata": {},
   "source": [
    "### 设置/读取指纹添加模式"
   ]
  },
  {
   "cell_type": "code",
   "execution_count": 8,
   "metadata": {},
   "outputs": [
    {
     "name": "stdout",
     "output_type": "stream",
     "text": [
      "b'-\\x00\\x01\\x00\\x00'\n",
      "操作成功\n"
     ]
    }
   ],
   "source": [
    "request = [0x2D, 0 ,0 ,1, 0]\n",
    "order = build_request(request)\n",
    "\n",
    "response = send(order)\n",
    "if response:\n",
    "    header = parse_response(response)\n",
    "    print(header)\n",
    "    print(ERROR_CODE[header[-2]])"
   ]
  },
  {
   "cell_type": "markdown",
   "metadata": {},
   "source": [
    "### 采集图像并上传"
   ]
  },
  {
   "cell_type": "code",
   "execution_count": 6,
   "metadata": {
    "scrolled": true
   },
   "outputs": [
    {
     "name": "stdout",
     "output_type": "stream",
     "text": [
      "Waitting.\n"
     ]
    },
    {
     "data": {
      "text/plain": [
       "9187"
      ]
     },
     "execution_count": 6,
     "metadata": {},
     "output_type": "execute_result"
    }
   ],
   "source": [
    "request = [0x24, 0, 0, 0, 0]\n",
    "request = build_request(request)\n",
    "\n",
    "response = send(request, wait=True)\n",
    "len(response)"
   ]
  },
  {
   "cell_type": "code",
   "execution_count": 7,
   "metadata": {
    "scrolled": true
   },
   "outputs": [
    {
     "name": "stdout",
     "output_type": "stream",
     "text": [
      "操作成功 9176\n"
     ]
    }
   ],
   "source": [
    "header, body = parse_response(response)\n",
    "print(ERROR_CODE[header[-2]], len(body))"
   ]
  },
  {
   "cell_type": "code",
   "execution_count": 8,
   "metadata": {},
   "outputs": [],
   "source": [
    "def parse_fp_pic(body_data):\n",
    "    \"\"\"\n",
    "    body_data: 返回数据的数据包部分\n",
    "    return: 灰度图的三维数组\n",
    "    \"\"\"\n",
    "    if len(body_data) != 9176:\n",
    "        print('数据异常，无法解析')\n",
    "        return\n",
    "    gray_array = []\n",
    "    for i in body_data:\n",
    "        later = i\n",
    "        former = (i << 4) & 0xFF\n",
    "\n",
    "        gray_array.append([former] * 3)\n",
    "        gray_array.append([later] * 3)\n",
    "\n",
    "#         gray_array.append(former)\n",
    "#         gray_array.append(later)\n",
    "    gray_array = numpy.array(gray_array).reshape((148, 124, 3))\n",
    "\n",
    "    return gray_array"
   ]
  },
  {
   "cell_type": "code",
   "execution_count": 9,
   "metadata": {
    "scrolled": false
   },
   "outputs": [
    {
     "data": {
      "text/plain": [
       "(148, 124, 3)"
      ]
     },
     "execution_count": 9,
     "metadata": {},
     "output_type": "execute_result"
    }
   ],
   "source": [
    "pic = parse_fp_pic(body)\n",
    "pic.shape"
   ]
  },
  {
   "cell_type": "markdown",
   "metadata": {},
   "source": [
    "### 显示、保存图片"
   ]
  },
  {
   "cell_type": "code",
   "execution_count": 10,
   "metadata": {},
   "outputs": [
    {
     "name": "stdout",
     "output_type": "stream",
     "text": [
      "C:\\Users\\Administrator\\Desktop\n"
     ]
    }
   ],
   "source": [
    "cd C:\\Users\\Administrator\\Desktop"
   ]
  },
  {
   "cell_type": "markdown",
   "metadata": {},
   "source": [
    "#### - "
   ]
  },
  {
   "cell_type": "code",
   "execution_count": 11,
   "metadata": {
    "scrolled": true
   },
   "outputs": [
    {
     "name": "stderr",
     "output_type": "stream",
     "text": [
      "d:\\softinstall\\python37\\lib\\site-packages\\ipykernel_launcher.py:2: DeprecationWarning: `imsave` is deprecated!\n",
      "`imsave` is deprecated in SciPy 1.0.0, and will be removed in 1.2.0.\n",
      "Use ``imageio.imwrite`` instead.\n",
      "  \n"
     ]
    }
   ],
   "source": [
    "from scipy import misc\n",
    "misc.imsave('out.jpg', pic)"
   ]
  },
  {
   "cell_type": "code",
   "execution_count": 69,
   "metadata": {},
   "outputs": [
    {
     "name": "stderr",
     "output_type": "stream",
     "text": [
      "Lossy conversion from int32 to uint8. Range [0, 184]. Convert image to uint8 prior to saving to suppress this warning.\n"
     ]
    }
   ],
   "source": [
    "import imageio\n",
    "imageio.imwrite('out.jpg', pic)"
   ]
  },
  {
   "cell_type": "markdown",
   "metadata": {},
   "source": [
    "#### - "
   ]
  },
  {
   "cell_type": "code",
   "execution_count": 2,
   "metadata": {},
   "outputs": [
    {
     "ename": "NameError",
     "evalue": "name 'pic' is not defined",
     "output_type": "error",
     "traceback": [
      "\u001b[1;31m---------------------------------------------------------------------------\u001b[0m",
      "\u001b[1;31mNameError\u001b[0m                                 Traceback (most recent call last)",
      "\u001b[1;32m<ipython-input-2-d79e2023dbaf>\u001b[0m in \u001b[0;36m<module>\u001b[1;34m\u001b[0m\n\u001b[0;32m      1\u001b[0m \u001b[1;32mimport\u001b[0m \u001b[0mcv2\u001b[0m\u001b[1;33m\u001b[0m\u001b[1;33m\u001b[0m\u001b[0m\n\u001b[0;32m      2\u001b[0m \u001b[1;33m\u001b[0m\u001b[0m\n\u001b[1;32m----> 3\u001b[1;33m \u001b[0mcv2\u001b[0m\u001b[1;33m.\u001b[0m\u001b[0mimshow\u001b[0m\u001b[1;33m(\u001b[0m\u001b[1;34m'gray'\u001b[0m\u001b[1;33m,\u001b[0m \u001b[0mpic\u001b[0m\u001b[1;33m)\u001b[0m\u001b[1;33m\u001b[0m\u001b[1;33m\u001b[0m\u001b[0m\n\u001b[0m",
      "\u001b[1;31mNameError\u001b[0m: name 'pic' is not defined"
     ]
    }
   ],
   "source": [
    "import cv2\n",
    "\n",
    "cv2.imshow('gray', pic)"
   ]
  },
  {
   "cell_type": "markdown",
   "metadata": {},
   "source": [
    "#### - "
   ]
  },
  {
   "cell_type": "code",
   "execution_count": 62,
   "metadata": {},
   "outputs": [
    {
     "data": {
      "image/png": "[encoded data removed]",
      "text/plain": [
       "<PIL.Image.Image image mode=L size=124x148 at 0x234DF08C4E0>"
      ]
     },
     "execution_count": 62,
     "metadata": {},
     "output_type": "execute_result"
    }
   ],
   "source": [
    "im = Image.fromarray(pic, 'L')\n",
    "im"
   ]
  },
  {
   "cell_type": "code",
   "execution_count": 29,
   "metadata": {},
   "outputs": [],
   "source": [
    "im.save('temp.png')"
   ]
  },
  {
   "cell_type": "code",
   "execution_count": 63,
   "metadata": {
    "scrolled": false
   },
   "outputs": [
    {
     "data": {
      "text/plain": [
       "<matplotlib.image.AxesImage at 0x234df243d68>"
      ]
     },
     "execution_count": 63,
     "metadata": {},
     "output_type": "execute_result"
    },
    {
     "data": {
      "image/png": "[encoded data removed]",
      "text/plain": [
       "<Figure size 432x288 with 1 Axes>"
      ]
     },
     "metadata": {
      "needs_background": "light"
     },
     "output_type": "display_data"
    }
   ],
   "source": [
    "plt.imshow(pic, cmap='Greys_r')"
   ]
  },
  {
   "cell_type": "code",
   "execution_count": 65,
   "metadata": {
    "scrolled": false
   },
   "outputs": [
    {
     "data": {
      "text/plain": [
       "<Figure size 432x288 with 0 Axes>"
      ]
     },
     "metadata": {},
     "output_type": "display_data"
    }
   ],
   "source": [
    "plt.savefig('aaaaaa.jpg', cmap='Greys_r')"
   ]
  },
  {
   "cell_type": "code",
   "execution_count": null,
   "metadata": {},
   "outputs": [],
   "source": [
    "# a=np.zeros((256,256,3))\n",
    "# b = Image.fromarray(a, mode='RGB')\n",
    "# b.show()\n",
    " \n",
    "# img = np.array(Image.open(\"lena.jpg\"))\n",
    "# img = Image.fromarray(img, mode='RGB')\n",
    "# img.show()"
   ]
  }
 ],
 "metadata": {
  "kernelspec": {
   "display_name": "Python 3",
   "language": "python",
   "name": "python3"
  },
  "language_info": {
   "codemirror_mode": {
    "name": "ipython",
    "version": 3
   },
   "file_extension": ".py",
   "mimetype": "text/x-python",
   "name": "python",
   "nbconvert_exporter": "python",
   "pygments_lexer": "ipython3",
   "version": "3.7.2"
  },
  "toc": {
   "base_numbering": 1,
   "nav_menu": {},
   "number_sections": true,
   "sideBar": true,
   "skip_h1_title": false,
   "title_cell": "Table of Contents",
   "title_sidebar": "Contents",
   "toc_cell": false,
   "toc_position": {},
   "toc_section_display": true,
   "toc_window_display": false
  },
  "varInspector": {
   "cols": {
    "lenName": 16,
    "lenType": 16,
    "lenVar": 40
   },
   "kernels_config": {
    "python": {
     "delete_cmd_postfix": "",
     "delete_cmd_prefix": "del ",
     "library": "var_list.py",
     "varRefreshCmd": "print(var_dic_list())"
    },
    "r": {
     "delete_cmd_postfix": ") ",
     "delete_cmd_prefix": "rm(",
     "library": "var_list.r",
     "varRefreshCmd": "cat(var_dic_list()) "
    }
   },
   "types_to_exclude": [
    "module",
    "function",
    "builtin_function_or_method",
    "instance",
    "_Feature"
   ],
   "window_display": false
  }
 },
 "nbformat": 4,
 "nbformat_minor": 2
}
