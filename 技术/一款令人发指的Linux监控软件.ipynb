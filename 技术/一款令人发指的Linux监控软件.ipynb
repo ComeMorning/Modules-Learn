{
 "cells": [
  {
   "cell_type": "markdown",
   "metadata": {},
   "source": [
    "> 原文地址 [mp.weixin.qq.com](https://mp.weixin.qq.com/s/Yx0HXq0Nhhw8iGbXR_XxEw)\n",
    "\n",
    "> **来自公众号：全栈 IT 技术前线**\n",
    "\n",
    "今天跟大家分享 1 个功能强大、配置简单、页面炫酷的 Linux 监控平台！不多说，先上图！\n",
    "\n",
    "![](https://mmbiz.qpic.cn/mmbiz_gif/uC6qibmJ9xzybwMJFBK01Boho27p2FtKCbiciaA0mHcwaug3GfvCj81ib4EAkyD5eb6kDyUqqyTxVmFgCS3UCcDOjg/640?wx_fmt=gif)  \n",
    "\n",
    "【准备工作】\n",
    "\n",
    "1. 任意 Linux；\n",
    "\n",
    "2.PC 机；\n",
    "\n",
    "3.Xshell 工具；\n",
    "\n",
    "【开始安装】\n",
    "\n",
    "1. 基础配置：\n",
    "\n",
    "yum update -y\n",
    "\n",
    "![](https://mmbiz.qpic.cn/mmbiz_png/uC6qibmJ9xzybwMJFBK01Boho27p2FtKCm5kRsg2BTibflBvfTtymV8NfIPs4Uic1SJlMib5NNgSPu58iaYjn7XuIXg/640?wx_fmt=png)\n",
    "\n",
    "2. 一条命令即可开始安装，  \n",
    "\n",
    "bash <(curl -Ss https://my-netdata.io/kickstart.sh)\n",
    "\n",
    "![](https://mmbiz.qpic.cn/mmbiz_png/uC6qibmJ9xzybwMJFBK01Boho27p2FtKClCtoO9qScvulztZsAQGDKJoznWgC01NvTjrOPia9QMpELQ616oHgNXg/640?wx_fmt=png)\n",
    "\n",
    "**中间会出现 1 次确认，按 y 即可，还有一次，Press Enter to run it，按 Enter 即可：**\n",
    "\n",
    "![](https://mmbiz.qpic.cn/mmbiz_png/uC6qibmJ9xzybwMJFBK01Boho27p2FtKC4Mlakib6QveSNL3HLFZOGqESHyfwypwIfcXkNgSDsyYJnIicLGsBbnyQ/640?wx_fmt=png)\n",
    "\n",
    "![](https://mmbiz.qpic.cn/mmbiz_png/uC6qibmJ9xzybwMJFBK01Boho27p2FtKCSOsicxjb7mmYq6EhiaC3icJgBB8lMb9OicW904nwsUoxDiaL3Ay3r2kE2gw/640?wx_fmt=png)  \n",
    "\n",
    "3. 由于需要访问国外资源，接下来就是漫长的等待。。。\n",
    "\n",
    "![](https://mmbiz.qpic.cn/mmbiz_png/uC6qibmJ9xzybwMJFBK01Boho27p2FtKCMt2mPNsyCibs7plsyDN6ibfcpe5uIuPPMxbJZ7rW60r6dxDxEjibW1Erw/640?wx_fmt=png)\n",
    "\n",
    "安装成功！\n",
    "\n",
    "![](https://mmbiz.qpic.cn/mmbiz_png/uC6qibmJ9xzybwMJFBK01Boho27p2FtKCXpAj3GnjWDxI4LAicAIBwYfqVU7UEsjypia8jXEIrpfib3J8NL8J1AYpA/640?wx_fmt=png)\n",
    "\n",
    "3. 通过安装回显，我们看到登陆信息和常用的启停命令：\n",
    "\n",
    "![](https://mmbiz.qpic.cn/mmbiz_png/uC6qibmJ9xzybwMJFBK01Boho27p2FtKCPrcLfHBaYz0l2EDZgYdDwcx44gvMEd60LIIhs49jRzwpQMRVElV9SQ/640?wx_fmt=png)\n",
    "\n",
    "【体验与测试】\n",
    "\n",
    "1. 浏览器打开 http://ip:19999，截图如下：\n",
    "\n",
    "![](https://mmbiz.qpic.cn/mmbiz_png/uC6qibmJ9xzybwMJFBK01Boho27p2FtKCI2eZFypneus8tMgV02RtSpgfEBwoBXkRssdy1iaBVlib6ibfiaibiamtiaD7w/640?wx_fmt=png)\n",
    "\n",
    "总览：\n",
    "\n",
    "![](https://mmbiz.qpic.cn/mmbiz_png/uC6qibmJ9xzybwMJFBK01Boho27p2FtKCibWyNKOxpdKrYV9csXEEfN27bvKv3RbUdJfzgFaF57KrfHA0sicEDkCQ/640?wx_fmt=png)\n",
    "\n",
    "磁盘：\n",
    "\n",
    "![](https://mmbiz.qpic.cn/mmbiz_png/uC6qibmJ9xzybwMJFBK01Boho27p2FtKCCAdczGOjWhgLNeT67AdD6tibbATx5icGlYpPjSkx3lPdOeBUXT0lDuEg/640?wx_fmt=png)\n",
    "\n",
    "网络：\n",
    "\n",
    "![](https://mmbiz.qpic.cn/mmbiz_png/uC6qibmJ9xzybwMJFBK01Boho27p2FtKCmHypBSl07up5ZKudCsfia3kTml19nIY7r3KcrtFiaMzc47icc4F59pyUQ/640?wx_fmt=png)\n",
    "\n",
    "应用的 CPU：\n",
    "\n",
    "![](https://mmbiz.qpic.cn/mmbiz_png/uC6qibmJ9xzybwMJFBK01Boho27p2FtKCr8FNRwN8me2z8IfFnqXw2gzSXSsJlf2DFvibEiaT4Z4a9Owibcnod7G8w/640?wx_fmt=png)\n",
    "\n",
    "内存：\n",
    "\n",
    "![](https://mmbiz.qpic.cn/mmbiz_png/uC6qibmJ9xzybwMJFBK01Boho27p2FtKCKNzY64ibCOInPVlsYgShCcUB6gbwgcISDRh3788L3NRlKsxLcdawcFg/640?wx_fmt=png)\n",
    "\n",
    "******Netdata 也可以后台服务收集监控指标，多服务器的监控指标汇总到前台展示，或者归档汇总后提供给其他工具如 grafana， 如下图：******\n",
    "\n",
    "******![](https://mmbiz.qpic.cn/mmbiz_png/uC6qibmJ9xzybwMJFBK01Boho27p2FtKC2mwZAgTCLVbXYYokHrLT2UWVepry4iaaVvjUoxAjLVZlVRqxFaWEp0g/640?wx_fmt=png)******\n",
    "\n",
    "******最后再发一张图，告诉你它究竟多强大！******\n",
    "\n",
    "******![](https://mmbiz.qpic.cn/mmbiz_png/uC6qibmJ9xzybwMJFBK01Boho27p2FtKCSZuqcnD1gcdjqSnJiar88u0wDIgeU0czRO5DtbKNh2hkY7abNkSWpwQ/640?wx_fmt=png)******\n",
    "\n",
    "* * *"
   ]
  },
  {
   "cell_type": "code",
   "execution_count": null,
   "metadata": {},
   "outputs": [],
   "source": []
  }
 ],
 "metadata": {
  "kernelspec": {
   "display_name": "Python 3",
   "language": "python",
   "name": "python3"
  },
  "language_info": {
   "codemirror_mode": {
    "name": "ipython",
    "version": 3
   },
   "file_extension": ".py",
   "mimetype": "text/x-python",
   "name": "python",
   "nbconvert_exporter": "python",
   "pygments_lexer": "ipython3",
   "version": "3.7.3"
  },
  "toc": {
   "base_numbering": 1,
   "nav_menu": {},
   "number_sections": true,
   "sideBar": true,
   "skip_h1_title": false,
   "title_cell": "Table of Contents",
   "title_sidebar": "Contents",
   "toc_cell": false,
   "toc_position": {},
   "toc_section_display": true,
   "toc_window_display": false
  },
  "varInspector": {
   "cols": {
    "lenName": 16,
    "lenType": 16,
    "lenVar": 40
   },
   "kernels_config": {
    "python": {
     "delete_cmd_postfix": "",
     "delete_cmd_prefix": "del ",
     "library": "var_list.py",
     "varRefreshCmd": "print(var_dic_list())"
    },
    "r": {
     "delete_cmd_postfix": ") ",
     "delete_cmd_prefix": "rm(",
     "library": "var_list.r",
     "varRefreshCmd": "cat(var_dic_list()) "
    }
   },
   "types_to_exclude": [
    "module",
    "function",
    "builtin_function_or_method",
    "instance",
    "_Feature"
   ],
   "window_display": false
  }
 },
 "nbformat": 4,
 "nbformat_minor": 4
}
