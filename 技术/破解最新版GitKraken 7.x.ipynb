{
 "cells": [
  {
   "cell_type": "markdown",
   "metadata": {},
   "source": [
    "### 亲测7.2.0版本破解可用（全平台）\n",
    "\n",
    "## 声明\n",
    "\n",
    "此破解工具来源于github，程序开源，**切勿用于商业用途**\n",
    "\n",
    "## 破解步骤\n",
    "\n",
    "- 项目地址：https://github.com/5cr1pt/GitCracken\n",
    "\n",
    "### 环境要求\n",
    "\n",
    "- 安装 Node.js >=12\n",
    "- [安装yarn包管理工具](https://yarn.bootcss.com/docs/install/#mac-stable)\n",
    "\n",
    "### 开始破解\n",
    "\n",
    "**⚠️警告：破解之前先关闭gitkraken软件，MAC用户需要先启动一次再关闭软件**\n",
    "\n",
    "依次执行以下命令\n",
    "\n",
    "1. git clone https://github.com/5cr1pt/GitCracken.git\n",
    "2. cd GitCracken/GitCracken/\n",
    "3. yarn install\n",
    "4. yarn build\n",
    "5. node dist/bin/gitcracken.js patcher\n",
    "\n",
    "如果最后一步没有错误发生，就破解成功啦\n",
    "\n",
    "### 禁用更新（可选）\n",
    "\n",
    "将以下内容添加到你的 `hosts` 文件中\n",
    "\n",
    "```\n",
    "0.0.0.0 release.gitkraken.com\n",
    "```\n",
    "\n",
    "hosts 文件路径：\n",
    "\n",
    "- C:\\Windows\\System32\\drivers\\etc\n",
    "\n",
    "或者 \n",
    "- /etc/hosts\n",
    "\n",
    "\n",
    "\n"
   ]
  },
  {
   "cell_type": "markdown",
   "metadata": {},
   "source": [
    "---\n",
    "历史版本下载（改改版本号就行）\n",
    "\n",
    "- Linux-deb : https://release.axocdn.com/linux/GitKraken-v7.5.1.deb\n",
    "- Linux-rpm : https://release.axocdn.com/linux/GitKraken-v7.5.1.rpm\n",
    "- Linux-tar.gz : https://release.axocdn.com/linux/GitKraken-v7.5.1.tar.gz\n",
    "- Win64 https://release.axocdn.com/win64/GitKrakenSetup-7.5.1.exe\n",
    "- Mac : https://release.axocdn.com/darwin/GitKraken-v7.5.1.zip\n",
    "\n",
    "--- \n",
    "卸载残留:\n",
    "\n",
    "C:\\Users\\xxxxx\\AppData\\Roaming\\.gitkraken  \n",
    "C:\\Users\\xxxxx\\AppData\\Roaming\\GitKraken  \n",
    "C:\\Users\\xxxxx\\AppData\\Local\\gitkraken\\  "
   ]
  },
  {
   "cell_type": "code",
   "execution_count": null,
   "metadata": {},
   "outputs": [],
   "source": []
  }
 ],
 "metadata": {
  "kernelspec": {
   "display_name": "Python 3",
   "language": "python",
   "name": "python3"
  },
  "language_info": {
   "codemirror_mode": {
    "name": "ipython",
    "version": 3
   },
   "file_extension": ".py",
   "mimetype": "text/x-python",
   "name": "python",
   "nbconvert_exporter": "python",
   "pygments_lexer": "ipython3",
   "version": "3.8.5"
  },
  "toc": {
   "base_numbering": 1,
   "nav_menu": {},
   "number_sections": true,
   "sideBar": true,
   "skip_h1_title": false,
   "title_cell": "Table of Contents",
   "title_sidebar": "Contents",
   "toc_cell": false,
   "toc_position": {},
   "toc_section_display": true,
   "toc_window_display": false
  },
  "varInspector": {
   "cols": {
    "lenName": 16,
    "lenType": 16,
    "lenVar": 40
   },
   "kernels_config": {
    "python": {
     "delete_cmd_postfix": "",
     "delete_cmd_prefix": "del ",
     "library": "var_list.py",
     "varRefreshCmd": "print(var_dic_list())"
    },
    "r": {
     "delete_cmd_postfix": ") ",
     "delete_cmd_prefix": "rm(",
     "library": "var_list.r",
     "varRefreshCmd": "cat(var_dic_list()) "
    }
   },
   "types_to_exclude": [
    "module",
    "function",
    "builtin_function_or_method",
    "instance",
    "_Feature"
   ],
   "window_display": false
  }
 },
 "nbformat": 4,
 "nbformat_minor": 4
}
