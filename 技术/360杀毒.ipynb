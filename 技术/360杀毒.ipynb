{
 "cells": [
  {
   "cell_type": "markdown",
   "metadata": {},
   "source": [
    "1. 安装 360卫士+杀毒\n",
    "2. 进入系统修复，安装补丁\n",
    "3. 进入功能大全 -> NAS 免疫工具\n",
    "4. 进入功能大全或者主页右下方 -> 反勒索服务 -> 全部开启 -> 开启晶核防护\n",
    "5. 全盘、强力查杀\n",
    "6. 重启"
   ]
  },
  {
   "cell_type": "markdown",
   "metadata": {},
   "source": [
    "**清理“匿影”病毒**\n",
    "\n",
    "1. NAS 武器库免疫工具\n",
    "2. 360 急救箱，选择强力模式"
   ]
  },
  {
   "cell_type": "markdown",
   "metadata": {},
   "source": [
    "[**安全建议**](https://s.tencent.com/research/report/690.html)\n",
    "\n",
    "1. 安装永恒之蓝漏洞补丁\n",
    "2. 尽量关闭不必要的端口，如：445、135，139等，对3389，5900等端口可进行白名单配置，只允许白名单内的IP连接登陆。\n",
    "3. 对没有互联需求的服务器/工作站内部访问设置相应控制，避免可连外网服务器被攻击后作为跳板进一步攻击其他服务器。\n",
    "4. 对重要文件和数据（数据库等数据）进行定期非本地备份。\n",
    "5. 在终端/服务器部署专业安全防护软件，Web服务器可考虑部署在腾讯云等具备专业安全防护能力的云服务。"
   ]
  }
 ],
 "metadata": {
  "kernelspec": {
   "display_name": "Python 3",
   "language": "python",
   "name": "python3"
  },
  "language_info": {
   "codemirror_mode": {
    "name": "ipython",
    "version": 3
   },
   "file_extension": ".py",
   "mimetype": "text/x-python",
   "name": "python",
   "nbconvert_exporter": "python",
   "pygments_lexer": "ipython3",
   "version": "3.7.3"
  },
  "toc": {
   "base_numbering": 1,
   "nav_menu": {},
   "number_sections": true,
   "sideBar": true,
   "skip_h1_title": false,
   "title_cell": "Table of Contents",
   "title_sidebar": "Contents",
   "toc_cell": false,
   "toc_position": {},
   "toc_section_display": true,
   "toc_window_display": false
  },
  "varInspector": {
   "cols": {
    "lenName": 16,
    "lenType": 16,
    "lenVar": 40
   },
   "kernels_config": {
    "python": {
     "delete_cmd_postfix": "",
     "delete_cmd_prefix": "del ",
     "library": "var_list.py",
     "varRefreshCmd": "print(var_dic_list())"
    },
    "r": {
     "delete_cmd_postfix": ") ",
     "delete_cmd_prefix": "rm(",
     "library": "var_list.r",
     "varRefreshCmd": "cat(var_dic_list()) "
    }
   },
   "types_to_exclude": [
    "module",
    "function",
    "builtin_function_or_method",
    "instance",
    "_Feature"
   ],
   "window_display": false
  }
 },
 "nbformat": 4,
 "nbformat_minor": 2
}
