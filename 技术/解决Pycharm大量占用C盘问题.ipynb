{
 "cells": [
  {
   "cell_type": "markdown",
   "metadata": {},
   "source": [
    "在使用 PyCharm 时会在 C:\\Users\\<username>\\.PyCharm < 版本号 > 下创建一大堆文件，里边包括了配置信息，项目缓存信息等。要为了解决 Pycharm 大量占用 C 盘问题，需要把一些配置信息搬迁到指定位置。\n",
    "\n",
    "通过 PyCharm 修改\n",
    "-------------\n",
    "\n",
    "在启动 PyCharm 后选择 Help -> Edit Custom Properties 的选项，弹出：\n",
    "\n",
    "![](https://img-blog.csdnimg.cn/20200322105304289.png)\n",
    "\n",
    "选择 Create ，之后在文件中添加以下内容即可：\n",
    "\n",
    "```ini\n",
    "idea.config.path=D:/Program Files/.PyCharm/config\n",
    "idea.system.path=D:/Program Files/.PyCharm/system\n",
    "```\n",
    "\n",
    "最后将原文件夹下的 C:\\\\Users\\\\<username>\\\\.PyCharm \\< 版本号 \\> 复制到目标搬迁文件夹下，并关闭 PyCharm 之后删除 system 文件夹并重启 PyCharm 就完成了配置的搬迁。其实只保留 config 目录下的一个 idea.properties 文件即可，其余文件都可以删除。\n",
    "\n"
   ]
  }
 ],
 "metadata": {
  "kernelspec": {
   "display_name": "Python 3",
   "language": "python",
   "name": "python3"
  },
  "language_info": {
   "codemirror_mode": {
    "name": "ipython",
    "version": 3
   },
   "file_extension": ".py",
   "mimetype": "text/x-python",
   "name": "python",
   "nbconvert_exporter": "python",
   "pygments_lexer": "ipython3",
   "version": "3.7.3"
  },
  "toc": {
   "base_numbering": 1,
   "nav_menu": {},
   "number_sections": true,
   "sideBar": true,
   "skip_h1_title": false,
   "title_cell": "Table of Contents",
   "title_sidebar": "Contents",
   "toc_cell": false,
   "toc_position": {},
   "toc_section_display": true,
   "toc_window_display": false
  },
  "varInspector": {
   "cols": {
    "lenName": 16,
    "lenType": 16,
    "lenVar": 40
   },
   "kernels_config": {
    "python": {
     "delete_cmd_postfix": "",
     "delete_cmd_prefix": "del ",
     "library": "var_list.py",
     "varRefreshCmd": "print(var_dic_list())"
    },
    "r": {
     "delete_cmd_postfix": ") ",
     "delete_cmd_prefix": "rm(",
     "library": "var_list.r",
     "varRefreshCmd": "cat(var_dic_list()) "
    }
   },
   "types_to_exclude": [
    "module",
    "function",
    "builtin_function_or_method",
    "instance",
    "_Feature"
   ],
   "window_display": false
  }
 },
 "nbformat": 4,
 "nbformat_minor": 2
}
