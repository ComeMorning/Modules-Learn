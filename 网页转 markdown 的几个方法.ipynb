{
 "cells": [
  {
   "cell_type": "markdown",
   "metadata": {},
   "source": [
    "\n",
    "网页转 markdown 的几个方法\n",
    "==================\n",
    "\n",
    "TabCopy\n",
    "------------\n",
    "\n",
    "[TabCopy - Chrome 网上应用店](https://chrome.google.com/webstore/detail/tabcopy/micdllihgoppmejpecmkilggmaagfdmb/reviews)\n",
    "\n",
    "简阅 \n",
    "------------\n",
    "\n",
    "[SimpRead 简悦 - 让你瞬间进入沉浸式阅读的 Chrome extension](http://ksria.com/simpread/)\n",
    "\n",
    "\n",
    "熊掌记浏览器扩展(bear)\n",
    "----\n",
    "\n",
    "[Bear Chrome extension - Chrome 网上应用店](https://chrome.google.com/webstore/detail/bear-chrome-extension/bipgnccfcjnfnpnnllchfeillaekkofo?utm_source=chrome-ntp-icon)  \n",
    "效果不错，就是有点慢！\n",
    "\n",
    "html2text\n",
    "---\n",
    "适合自己开发：<https://pypi.org/project/html2text/>\n"
   ]
  },
  {
   "cell_type": "code",
   "execution_count": null,
   "metadata": {},
   "outputs": [],
   "source": []
  }
 ],
 "metadata": {
  "kernelspec": {
   "display_name": "Python 3",
   "language": "python",
   "name": "python3"
  },
  "language_info": {
   "codemirror_mode": {
    "name": "ipython",
    "version": 3
   },
   "file_extension": ".py",
   "mimetype": "text/x-python",
   "name": "python",
   "nbconvert_exporter": "python",
   "pygments_lexer": "ipython3",
   "version": "3.7.3"
  },
  "toc": {
   "base_numbering": 1,
   "nav_menu": {},
   "number_sections": true,
   "sideBar": true,
   "skip_h1_title": false,
   "title_cell": "Table of Contents",
   "title_sidebar": "Contents",
   "toc_cell": false,
   "toc_position": {},
   "toc_section_display": true,
   "toc_window_display": true
  },
  "varInspector": {
   "cols": {
    "lenName": 16,
    "lenType": 16,
    "lenVar": 40
   },
   "kernels_config": {
    "python": {
     "delete_cmd_postfix": "",
     "delete_cmd_prefix": "del ",
     "library": "var_list.py",
     "varRefreshCmd": "print(var_dic_list())"
    },
    "r": {
     "delete_cmd_postfix": ") ",
     "delete_cmd_prefix": "rm(",
     "library": "var_list.r",
     "varRefreshCmd": "cat(var_dic_list()) "
    }
   },
   "types_to_exclude": [
    "module",
    "function",
    "builtin_function_or_method",
    "instance",
    "_Feature"
   ],
   "window_display": false
  }
 },
 "nbformat": 4,
 "nbformat_minor": 2
}
