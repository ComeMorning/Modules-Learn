{
 "cells": [
  {
   "cell_type": "markdown",
   "metadata": {},
   "source": [
    "- [Fluendo Codec Pack 及 GStreamer 硬件加速简述](https://linuxtoy.org/archives/fluendo-codec-pack-and-gstreamer-hardware-va-briefing.html)\n",
    "- [维基 - Video Acceleration API](https://en.wikipedia.org/wiki/Video_Acceleration_API#Supported_hardware_and_drivers)\n",
    "\n",
    "- [🚩Hardware video acceleration (简体中文)](https://wiki.archlinux.org/index.php/Hardware_video_acceleration_(%E7%AE%80%E4%BD%93%E4%B8%AD%E6%96%87)#GStreamer)\n",
    "\n",
    "- [如何在 Ubuntu 或 Linux Mint 启用 Chromium 硬件加速的视频解码](https://www.linuxidc.com/Linux/2018-09/154067.htm)\n",
    "\n",
    "- https://blogs.igalia.com/vjaquez/2018/03/28/gstreamer-va-api-troubleshooting/\n",
    "\n",
    "- [基于NVIDIA TEGRA系列板卡的硬件解码及视频推流](https://blog.csdn.net/maxhn0/article/details/78424097)\n",
    "\n",
    "- [NVIDIA TEGRA系列板卡的硬件加速官方教程翻译](https://blog.csdn.net/u011475210/article/details/74012596)\n",
    "\n",
    "    - [英文PDF下载](https://developer.download.nvidia.cn/embedded/L4T/r32_Release_v1.0/Docs/Accelerated_GStreamer_User_Guide.pdf?UN1oIKRxd8BawL-VWtI9WBmQDmFn_iAm7_I-MzU-IhPV_aTw2jVEfMMDQeUP_RUIhrEd81Nb7zJ7t1Cqu-OqkiIl37RXyZh2iOx7dNbVJwrTcTBmh4JXhaHJZ13LUHJq77uzvWXqFDOsF9bpDnLpQbHFiOdMTnXPzkjfRffG-iwRl-96uBA)"
   ]
  }
 ],
 "metadata": {
  "kernelspec": {
   "display_name": "Python 3",
   "language": "python",
   "name": "python3"
  },
  "language_info": {
   "codemirror_mode": {
    "name": "ipython",
    "version": 3
   },
   "file_extension": ".py",
   "mimetype": "text/x-python",
   "name": "python",
   "nbconvert_exporter": "python",
   "pygments_lexer": "ipython3",
   "version": "3.7.3"
  },
  "toc": {
   "base_numbering": 1,
   "nav_menu": {},
   "number_sections": true,
   "sideBar": true,
   "skip_h1_title": false,
   "title_cell": "Table of Contents",
   "title_sidebar": "Contents",
   "toc_cell": false,
   "toc_position": {},
   "toc_section_display": true,
   "toc_window_display": false
  },
  "varInspector": {
   "cols": {
    "lenName": 16,
    "lenType": 16,
    "lenVar": 40
   },
   "kernels_config": {
    "python": {
     "delete_cmd_postfix": "",
     "delete_cmd_prefix": "del ",
     "library": "var_list.py",
     "varRefreshCmd": "print(var_dic_list())"
    },
    "r": {
     "delete_cmd_postfix": ") ",
     "delete_cmd_prefix": "rm(",
     "library": "var_list.r",
     "varRefreshCmd": "cat(var_dic_list()) "
    }
   },
   "types_to_exclude": [
    "module",
    "function",
    "builtin_function_or_method",
    "instance",
    "_Feature"
   ],
   "window_display": false
  }
 },
 "nbformat": 4,
 "nbformat_minor": 2
}
