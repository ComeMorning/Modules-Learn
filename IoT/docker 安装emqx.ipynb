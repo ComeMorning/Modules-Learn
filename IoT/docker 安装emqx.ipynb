{
 "cells": [
  {
   "cell_type": "markdown",
   "metadata": {},
   "source": [
    "> 原文地址 [blog.csdn.net](https://blog.csdn.net/wanchaopeng/article/details/108637278)\n",
    "\n",
    "1. 下载镜像\n",
    "\n",
    "```sh\n",
    "docker pull emqx/emqx\n",
    "\n",
    "```\n",
    "\n",
    "2. 后台运行镜像\n",
    "\n",
    "```sh\n",
    "docker run -dit --name emqx -p 18083:18083 -p 1883:1883 -p 8083:8083 -p 8084:8084 emqx/emqx:latest\n",
    "\n",
    "```\n",
    "\n",
    "3. 进入 emqx 的 docker 命令\n",
    "\n",
    "```sh\n",
    "docker exec -it  emqx /bin/sh\n",
    "\n",
    "```\n",
    "\n",
    "4. 访问 emqt 的 web 管理页面\n",
    "\n",
    "```\n",
    "http://ip:18083\n",
    " \n",
    "#账号： admin\n",
    "#密码: public\n",
    "```\n",
    "\n",
    "5. 端口\n",
    "\n",
    "```\n",
    "1883：MQTT 协议端口\n",
    "8883：MQTT/SSL 端口\n",
    "8083：MQTT/WebSocket 端口\n",
    "8080：HTTP API 端口\n",
    "18083：Dashboard 管理控制台端口\n",
    "```"
   ]
  }
 ],
 "metadata": {
  "kernelspec": {
   "display_name": "Python 3",
   "language": "python",
   "name": "python3"
  },
  "language_info": {
   "codemirror_mode": {
    "name": "ipython",
    "version": 3
   },
   "file_extension": ".py",
   "mimetype": "text/x-python",
   "name": "python",
   "nbconvert_exporter": "python",
   "pygments_lexer": "ipython3",
   "version": "3.7.3"
  },
  "toc": {
   "base_numbering": 1,
   "nav_menu": {},
   "number_sections": true,
   "sideBar": true,
   "skip_h1_title": false,
   "title_cell": "Table of Contents",
   "title_sidebar": "Contents",
   "toc_cell": false,
   "toc_position": {},
   "toc_section_display": true,
   "toc_window_display": false
  },
  "varInspector": {
   "cols": {
    "lenName": 16,
    "lenType": 16,
    "lenVar": 40
   },
   "kernels_config": {
    "python": {
     "delete_cmd_postfix": "",
     "delete_cmd_prefix": "del ",
     "library": "var_list.py",
     "varRefreshCmd": "print(var_dic_list())"
    },
    "r": {
     "delete_cmd_postfix": ") ",
     "delete_cmd_prefix": "rm(",
     "library": "var_list.r",
     "varRefreshCmd": "cat(var_dic_list()) "
    }
   },
   "types_to_exclude": [
    "module",
    "function",
    "builtin_function_or_method",
    "instance",
    "_Feature"
   ],
   "window_display": false
  }
 },
 "nbformat": 4,
 "nbformat_minor": 2
}
