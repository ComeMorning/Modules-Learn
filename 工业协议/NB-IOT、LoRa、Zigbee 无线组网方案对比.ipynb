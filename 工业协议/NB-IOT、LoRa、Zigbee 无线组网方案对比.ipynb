{
 "cells": [
  {
   "cell_type": "markdown",
   "metadata": {},
   "source": [
    "# NB-IOT|LoRa|Zigbee 无线组网方案对比\n",
    "\n",
    "2018 年 11 月 22 日 / 通过： [admin](https://www.bodazl.com/author/admin \"由admin发布\")\n",
    "\n",
    "\n",
    "物联网设备节点组网存在 2 种组网方式， 无线组网和有线组网。 无线组网我们常见到的有 Zigbee,LoRa,  \n",
    "NB-IOT 等，其中 Lora/NB-IOT 属于 LPWAN 技术，LPWAN 技术有覆盖广、连接多、速率低、成本低、功耗少等特点。\n",
    "\n",
    "NB-IoT 有个明显的优势是数据采集后可直接上传到云端，不需要通过网关，简化了现场部署。通常要部署一个网关需要考虑位置，周围信号影响，考虑因素较多。\n",
    "\n",
    "现在把这个三个无线组网方案做一个较全面对比，以供在做方案选择时候做参考：\n",
    "\n",
    "<table><colgroup><col> <col> <col> <col> </colgroup><tbody><tr><td></td><td>NB-IOT</td><td>LoRa</td><td>Zigbee</td></tr><tr><td>组网方式</td><td>基于现有蜂窝组网</td><td>基于 LoRa 网关</td><td>基于 Zigbee 网关</td></tr><tr><td>网络部署方式</td><td>节点</td><td>节点 + 网关 （网关部署位置要求较高，需要考虑因素多）</td><td>节点 + 网关</td></tr><tr><td>传输距离</td><td>远距离 （可达十几公里，一般情况下 10KM 以上）</td><td>远距离 （可达十几公里，城市 1~2 公里, 郊区可达 20km）</td><td>短距离 （10 米~ 百米级别）</td></tr><tr><td>单网接入节点容量</td><td>约 20 万</td><td>约 6 万，实际受网关信道数量，节点发包频率，数据包大小等有关。一般有 500~5000 个不等</td><td>理论 6 万多个，一般情况 200~500 个</td></tr><tr><td>电池续航</td><td>理论约 10 年 / AA 电池</td><td>理论约 10 年 / AA 电池</td><td>理论约 2 年 / AA 电池</td></tr><tr><td>成本</td><td>模块 5-10$，未来目标降到 1$</td><td>模块约 5$</td><td>模块约 1~2$</td></tr><tr><td>频段</td><td>License 频段，运营商频段</td><td>unlicense 频段， Sub-GHZ(433、868、915 MHz 等)</td><td>unlicense 频段 2.4G</td></tr><tr><td>传输速度</td><td>理论 160kbp ~ 250Kbps，实际一般小于 100kbps，受限低速通信接口 UART</td><td>0.3~50kbps</td><td>理论 250kps，实际一般小于 100kbps，受限低速通信接口 UART</td></tr><tr><td>网络时延</td><td>6s -10s</td><td>TBD</td><td>不到 1S</td></tr><tr><td>适合领域</td><td>户外场景，LPWAN 大面积传感器应用</td><td>户外场景，LPWAN， 大面积传感器应用 可搭私有网网络，蜂窝网络覆盖不到地方</td><td>常见于户内场景，户外也有, LPLAN 小范围传感器应用 可搭建私有网网络。</td></tr></tbody></table>"
   ]
  },
  {
   "cell_type": "code",
   "execution_count": null,
   "metadata": {},
   "outputs": [],
   "source": []
  }
 ],
 "metadata": {
  "kernelspec": {
   "display_name": "Python 3",
   "language": "python",
   "name": "python3"
  },
  "language_info": {
   "codemirror_mode": {
    "name": "ipython",
    "version": 3
   },
   "file_extension": ".py",
   "mimetype": "text/x-python",
   "name": "python",
   "nbconvert_exporter": "python",
   "pygments_lexer": "ipython3",
   "version": "3.7.7"
  },
  "toc": {
   "base_numbering": 1,
   "nav_menu": {},
   "number_sections": true,
   "sideBar": true,
   "skip_h1_title": false,
   "title_cell": "Table of Contents",
   "title_sidebar": "Contents",
   "toc_cell": false,
   "toc_position": {},
   "toc_section_display": true,
   "toc_window_display": false
  },
  "varInspector": {
   "cols": {
    "lenName": 16,
    "lenType": 16,
    "lenVar": 40
   },
   "kernels_config": {
    "python": {
     "delete_cmd_postfix": "",
     "delete_cmd_prefix": "del ",
     "library": "var_list.py",
     "varRefreshCmd": "print(var_dic_list())"
    },
    "r": {
     "delete_cmd_postfix": ") ",
     "delete_cmd_prefix": "rm(",
     "library": "var_list.r",
     "varRefreshCmd": "cat(var_dic_list()) "
    }
   },
   "types_to_exclude": [
    "module",
    "function",
    "builtin_function_or_method",
    "instance",
    "_Feature"
   ],
   "window_display": false
  }
 },
 "nbformat": 4,
 "nbformat_minor": 4
}
