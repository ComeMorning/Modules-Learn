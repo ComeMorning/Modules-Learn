{
 "cells": [
  {
   "cell_type": "markdown",
   "metadata": {},
   "source": [
    "### 获取签名: Signature类"
   ]
  },
  {
   "cell_type": "code",
   "execution_count": null,
   "metadata": {},
   "outputs": [],
   "source": [
    "import inspect\n",
    "\n",
    "# 测试方法\n",
    "def func1(a, b: int = 0, *c, d, e=1, **f):\n",
    "    pass\n",
    "\n",
    "# 测试方法\n",
    "def func2(a, b: int, c=0, *, d):\n",
    "    pass\n",
    "\n",
    "# 测试方法 python>=3，8\n",
    "# def func3(a, /, b: int, c=0, *, d):\n",
    "#     pass\n",
    "\n",
    "\n",
    "class Foo:\n",
    "    \"\"\"测试类\"\"\"\n",
    "\n",
    "    def __init__(self, name: str, age: int):\n",
    "        \"\"\"\n",
    "        初始化\n",
    "        :param name:\n",
    "        :param age:\n",
    "        \"\"\"\n",
    "        self.name = name\n",
    "        self.age = age\n",
    "\n",
    "    def run(self):\n",
    "        \"\"\"运行程序\"\"\"\n",
    "        print('run....')\n",
    "        print(self.name, self.age)\n",
    "\n",
    "\n",
    "# 函数签名\n",
    "sign = inspect.signature(func1)\n",
    "# 类 构造方法签名\n",
    "# sign = inspect.signature(Foo)\n",
    "\n",
    "\n",
    "print(type(sign))\n",
    "print(repr(sign))\n",
    "print(str(sign))"
   ]
  },
  {
   "cell_type": "markdown",
   "metadata": {},
   "source": [
    "### 获取参数字典"
   ]
  },
  {
   "cell_type": "code",
   "execution_count": 23,
   "metadata": {},
   "outputs": [
    {
     "data": {
      "text/plain": [
       "[('name', ''), ('age', 'a')]"
      ]
     },
     "execution_count": 23,
     "metadata": {},
     "output_type": "execute_result"
    }
   ],
   "source": [
    "import re\n",
    "a =  \"\"\"\n",
    "        初始化\n",
    "        :param name:\n",
    "        :param age:a\n",
    "        \"\"\"\n",
    "PARAM_PATTERN = re.compile('[:@]param (.*?):(.*)')\n",
    "PARAM_PATTERN.findall(a)"
   ]
  },
  {
   "cell_type": "code",
   "execution_count": null,
   "metadata": {},
   "outputs": [],
   "source": [
    "param_dict = sign.parameters\n",
    "\n",
    "print(type(param_dict))\n",
    "print(repr(param_dict))\n",
    "print(str(param_dict))"
   ]
  },
  {
   "cell_type": "code",
   "execution_count": null,
   "metadata": {},
   "outputs": [],
   "source": [
    "# 顺序字典\n",
    "param_dict.keys()"
   ]
  },
  {
   "cell_type": "code",
   "execution_count": null,
   "metadata": {},
   "outputs": [],
   "source": [
    "# 顺序字典\n",
    "param_dict.values()"
   ]
  },
  {
   "cell_type": "markdown",
   "metadata": {},
   "source": [
    "### 参数详情：Parameter类"
   ]
  },
  {
   "cell_type": "code",
   "execution_count": null,
   "metadata": {},
   "outputs": [],
   "source": [
    "param_dict['a']"
   ]
  },
  {
   "cell_type": "code",
   "execution_count": null,
   "metadata": {},
   "outputs": [],
   "source": [
    "def func1(a, b: int = 0, *c, d, e=1, **f):\n",
    "    print(a, b, c, d, e, f)\n",
    "\n",
    "func1(1, d=1, )"
   ]
  },
  {
   "cell_type": "code",
   "execution_count": null,
   "metadata": {
    "scrolled": true
   },
   "outputs": [],
   "source": [
    "# 打印每个参数的详情: 参数名，类型， 默认值，类型注释\n",
    "attributes = ['name', 'kind', 'default', 'annotation']\n",
    "for param in param_dict.values():\n",
    "    for attr in attributes:\n",
    "        value = getattr(param, attr)\n",
    "        print(attr.ljust(10).title(), value)\n",
    "    print('=' * 50)"
   ]
  },
  {
   "cell_type": "markdown",
   "metadata": {},
   "source": [
    "### 返回值类型"
   ]
  },
  {
   "cell_type": "code",
   "execution_count": null,
   "metadata": {},
   "outputs": [],
   "source": [
    "sign.return_annotation"
   ]
  }
 ],
 "metadata": {
  "kernelspec": {
   "display_name": "Python 3",
   "language": "python",
   "name": "python3"
  },
  "language_info": {
   "codemirror_mode": {
    "name": "ipython",
    "version": 3
   },
   "file_extension": ".py",
   "mimetype": "text/x-python",
   "name": "python",
   "nbconvert_exporter": "python",
   "pygments_lexer": "ipython3",
   "version": "3.7.3"
  },
  "toc": {
   "base_numbering": 1,
   "nav_menu": {},
   "number_sections": true,
   "sideBar": true,
   "skip_h1_title": false,
   "title_cell": "Table of Contents",
   "title_sidebar": "Contents",
   "toc_cell": false,
   "toc_position": {},
   "toc_section_display": true,
   "toc_window_display": true
  },
  "varInspector": {
   "cols": {
    "lenName": 16,
    "lenType": 16,
    "lenVar": 40
   },
   "kernels_config": {
    "python": {
     "delete_cmd_postfix": "",
     "delete_cmd_prefix": "del ",
     "library": "var_list.py",
     "varRefreshCmd": "print(var_dic_list())"
    },
    "r": {
     "delete_cmd_postfix": ") ",
     "delete_cmd_prefix": "rm(",
     "library": "var_list.r",
     "varRefreshCmd": "cat(var_dic_list()) "
    }
   },
   "types_to_exclude": [
    "module",
    "function",
    "builtin_function_or_method",
    "instance",
    "_Feature"
   ],
   "window_display": false
  }
 },
 "nbformat": 4,
 "nbformat_minor": 2
}
