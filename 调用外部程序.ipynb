{
 "cells": [
  {
   "cell_type": "markdown",
   "metadata": {},
   "source": [
    "# Windows\n",
    "\n",
    "可以使用win32process模块中的函数。如果想进一步控制进程，则可以使用ctype模块，直接调用kernel32.dll中的函数\n",
    "\n",
    "1. 使用os.system函数运行其他程序\n",
    "2. 使用ShellExecute函数运行其他程序\n",
    "3. 使用CreateProcess函数运行其他程序\n",
    "4. 使用ctypes调用kernel32.dll中的函数"
   ]
  },
  {
   "cell_type": "code",
   "execution_count": 27,
   "metadata": {},
   "outputs": [],
   "source": [
    "import os\n",
    "import win32api\n",
    "import win32process\n",
    "import win32event"
   ]
  },
  {
   "cell_type": "markdown",
   "metadata": {},
   "source": [
    "## os.system(command)\n",
    "\n",
    "说明：\n",
    "\n",
    "- 阻塞\n",
    "- 正常结束返回 0"
   ]
  },
  {
   "cell_type": "markdown",
   "metadata": {},
   "source": [
    "### 用法举例"
   ]
  },
  {
   "cell_type": "code",
   "execution_count": 28,
   "metadata": {},
   "outputs": [
    {
     "data": {
      "text/plain": [
       "0"
      ]
     },
     "execution_count": 28,
     "metadata": {},
     "output_type": "execute_result"
    }
   ],
   "source": [
    "import os  \n",
    "#  打开记事本程序  \n",
    "os.system('notepad')  \n",
    "# 关闭记事本后的返回值  0"
   ]
  },
  {
   "cell_type": "code",
   "execution_count": 29,
   "metadata": {},
   "outputs": [
    {
     "data": {
      "text/plain": [
       "0"
      ]
     },
     "execution_count": 29,
     "metadata": {},
     "output_type": "execute_result"
    }
   ],
   "source": [
    "# 向记事本传递参数，打开python.txt文件  \n",
    "os.system('notepad python.txt') "
   ]
  },
  {
   "cell_type": "markdown",
   "metadata": {},
   "source": [
    "## win32api.ShellExecute(hwnd, op , file , params , dir , bShow )\n",
    "\n",
    "参数:\n",
    "- hwnd：父窗口的句柄，如果没有父窗口，则为0。\n",
    "- op：要进行的操作，为“open”、“print”或者为空。\n",
    "- file：要运行的程序，或者打开的脚本。\n",
    "- params：要向程序传递的参数，如果打开的为文件，则为空。\n",
    "- dir：程序初始化的目录。\n",
    "- bShow：是否显示窗口。\n",
    "\n",
    "说明：\n",
    "- 非阻塞\n",
    "- 相当于在资源管理器中双击文件图标一样，系统会打开相应的应用程序执行操作"
   ]
  },
  {
   "cell_type": "markdown",
   "metadata": {},
   "source": [
    "### 用法举例"
   ]
  },
  {
   "cell_type": "code",
   "execution_count": null,
   "metadata": {},
   "outputs": [],
   "source": [
    "import win32api"
   ]
  },
  {
   "cell_type": "markdown",
   "metadata": {},
   "source": [
    "打开记事本程序，在后台运行，即显示记事本程序的窗口"
   ]
  },
  {
   "cell_type": "code",
   "execution_count": 39,
   "metadata": {},
   "outputs": [],
   "source": [
    "win32api.ShellExecute(0, 'open', 'notepad', '', '', 0)"
   ]
  },
  {
   "cell_type": "markdown",
   "metadata": {},
   "source": [
    "打开记事本程序，在前台运行"
   ]
  },
  {
   "cell_type": "code",
   "execution_count": 41,
   "metadata": {},
   "outputs": [
    {
     "data": {
      "text/plain": [
       "42"
      ]
     },
     "execution_count": 41,
     "metadata": {},
     "output_type": "execute_result"
    }
   ],
   "source": [
    "win32api.ShellExecute(0, 'open', 'notepad.exe', '', '', 1)"
   ]
  },
  {
   "cell_type": "markdown",
   "metadata": {},
   "source": [
    "向记事本传递参数，打开python.txt"
   ]
  },
  {
   "cell_type": "code",
   "execution_count": null,
   "metadata": {},
   "outputs": [],
   "source": [
    "win32api.ShellExecute(0, 'open', 'notepad.exe', 'python.txt', '', 1)"
   ]
  },
  {
   "cell_type": "markdown",
   "metadata": {},
   "source": [
    "在默认浏览器中打开http://www.python.org网站"
   ]
  },
  {
   "cell_type": "code",
   "execution_count": 42,
   "metadata": {
    "scrolled": true
   },
   "outputs": [
    {
     "data": {
      "text/plain": [
       "42"
      ]
     },
     "execution_count": 42,
     "metadata": {},
     "output_type": "execute_result"
    }
   ],
   "source": [
    "win32api.ShellExecute(0, 'open', 'http://www.python.org', '', '', 1)"
   ]
  },
  {
   "cell_type": "markdown",
   "metadata": {},
   "source": [
    "在默认的媒体播放器中播放E:\\song.wma"
   ]
  },
  {
   "cell_type": "code",
   "execution_count": null,
   "metadata": {},
   "outputs": [],
   "source": [
    "win32api.ShellExecute(0, 'open', 'E:\\\\song.wma', '', '', 1)"
   ]
  },
  {
   "cell_type": "markdown",
   "metadata": {},
   "source": [
    "运行位于E:\\book\\code目录中的MessageBox.py脚本"
   ]
  },
  {
   "cell_type": "code",
   "execution_count": null,
   "metadata": {},
   "outputs": [],
   "source": [
    "win32api.ShellExecute(0, 'open', 'E:\\\\book\\\\code\\\\MessageBox.py', '', '', 1)"
   ]
  },
  {
   "cell_type": "markdown",
   "metadata": {},
   "source": [
    "## win32process.CreateProcess 创建进程\n",
    "\n",
    "形式：\n",
    "\n",
    "`\n",
    "CreateProcess(appName, commandLine , processAttributes , threadAttributes , bInheritHandles ,dwCreationFlags , newEnvironment , currentDirectory , startupinfo )`\n",
    "\n",
    "参数：\n",
    "\n",
    "- appName：可执行的文件名。\n",
    "- commandLine：命令行参数。\n",
    "- processAttributes：进程安全属性，如果为None，则为默认的安全属性。\n",
    "- threadAttributes：线程安全属性，如果为None，则为默认的安全属性。\n",
    "- bInheritHandles：继承标志。\n",
    "- dwCreationFlags：创建标志。\n",
    "- newEnvironment：创建进程的环境变量。\n",
    "- currentDirectory：进程的当前目录。\n",
    "- startupinfo ：创建进程的属性。\n",
    "\n",
    "说明：\n",
    "- 非阻塞\n",
    "- 可通过句柄控制终止、等待"
   ]
  },
  {
   "cell_type": "code",
   "execution_count": 49,
   "metadata": {},
   "outputs": [],
   "source": [
    "import win32process\n",
    "\n",
    "handle = win32process.CreateProcess('c:\\\\windows\\\\notepad.exe', '', None, None,\n",
    "                                    0, win32process.CREATE_NO_WINDOW, None,\n",
    "                                    None, win32process.STARTUPINFO())"
   ]
  },
  {
   "cell_type": "markdown",
   "metadata": {},
   "source": [
    "### 终止控制 win32process.TerminateProcess\n",
    "\n",
    "参数：\n",
    "- handle：要操作的进程句柄。\n",
    "- exitCode：进程退出代码。"
   ]
  },
  {
   "cell_type": "code",
   "execution_count": 52,
   "metadata": {},
   "outputs": [],
   "source": [
    "handle = win32process.CreateProcess('c:\\\\windows\\\\notepad.exe', '', None, None,\n",
    "                                    0, win32process.CREATE_NO_WINDOW, None,\n",
    "                                    None, win32process.STARTUPINFO())"
   ]
  },
  {
   "cell_type": "code",
   "execution_count": 53,
   "metadata": {},
   "outputs": [],
   "source": [
    "win32process.TerminateProcess(handle[0], 0)"
   ]
  },
  {
   "cell_type": "markdown",
   "metadata": {},
   "source": [
    "### 等待控制 win32event.WaitForSingleObjec\n",
    "\n",
    "参数：\n",
    "- handle：要操作的进程句柄。\n",
    "- milliseconds：等待的时间，如果为1，则一直等待。\n",
    "\n",
    "返回值 0"
   ]
  },
  {
   "cell_type": "code",
   "execution_count": 54,
   "metadata": {},
   "outputs": [],
   "source": [
    "handle = win32process.CreateProcess('c:\\\\windows\\\\notepad.exe', '', None, None,\n",
    "                                    0, win32process.CREATE_NO_WINDOW, None,\n",
    "                                    None, win32process.STARTUPINFO())"
   ]
  },
  {
   "cell_type": "code",
   "execution_count": 55,
   "metadata": {},
   "outputs": [
    {
     "data": {
      "text/plain": [
       "0"
      ]
     },
     "execution_count": 55,
     "metadata": {},
     "output_type": "execute_result"
    }
   ],
   "source": [
    "# 等待进程结束\n",
    "win32event.WaitForSingleObject(handle[0], -1)\n",
    "0  # 进程结束的返回值"
   ]
  },
  {
   "cell_type": "markdown",
   "metadata": {},
   "source": [
    "## 使用ctypes调用kernel32.dll中的函数\n",
    "\n",
    "使用ctypes模块可以使Python调用由C语言编写的动态链接库，并向其传递参数。\n",
    "ctypes定义了C语言中的基本数据类型，并且可以实现C语言中的结构体和联合体。ctypes可以工作在Windows、Windows CE、Mac OS X、Linux、Solaris、FreeBSD、OpenBSD等平台上，基本上实现了跨平台"
   ]
  },
  {
   "cell_type": "markdown",
   "metadata": {},
   "source": [
    "在Windows下直接调用user32.dll中的MessageBoxA函数："
   ]
  },
  {
   "cell_type": "code",
   "execution_count": 56,
   "metadata": {},
   "outputs": [
    {
     "data": {
      "text/plain": [
       "1"
      ]
     },
     "execution_count": 56,
     "metadata": {},
     "output_type": "execute_result"
    }
   ],
   "source": [
    "from ctypes import *\n",
    "\n",
    "user32 = windll.LoadLibrary('user32.dll')  # 加载动态链接库\n",
    "# 调用MessageBoxA函数.\n",
    "user32.MessageBoxA(0, b'Ctypes is cool!', 'Ctypes', 0)"
   ]
  }
 ],
 "metadata": {
  "kernelspec": {
   "display_name": "Python 3",
   "language": "python",
   "name": "python3"
  },
  "language_info": {
   "codemirror_mode": {
    "name": "ipython",
    "version": 3
   },
   "file_extension": ".py",
   "mimetype": "text/x-python",
   "name": "python",
   "nbconvert_exporter": "python",
   "pygments_lexer": "ipython3",
   "version": "3.7.3"
  },
  "toc": {
   "base_numbering": 1,
   "nav_menu": {},
   "number_sections": true,
   "sideBar": true,
   "skip_h1_title": false,
   "title_cell": "Table of Contents",
   "title_sidebar": "Contents",
   "toc_cell": false,
   "toc_position": {},
   "toc_section_display": true,
   "toc_window_display": true
  },
  "varInspector": {
   "cols": {
    "lenName": 16,
    "lenType": 16,
    "lenVar": 40
   },
   "kernels_config": {
    "python": {
     "delete_cmd_postfix": "",
     "delete_cmd_prefix": "del ",
     "library": "var_list.py",
     "varRefreshCmd": "print(var_dic_list())"
    },
    "r": {
     "delete_cmd_postfix": ") ",
     "delete_cmd_prefix": "rm(",
     "library": "var_list.r",
     "varRefreshCmd": "cat(var_dic_list()) "
    }
   },
   "types_to_exclude": [
    "module",
    "function",
    "builtin_function_or_method",
    "instance",
    "_Feature"
   ],
   "window_display": false
  }
 },
 "nbformat": 4,
 "nbformat_minor": 2
}
