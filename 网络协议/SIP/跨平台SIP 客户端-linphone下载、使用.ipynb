{
 "cells": [
  {
   "cell_type": "markdown",
   "metadata": {},
   "source": [
    "## linphone\n",
    "\n",
    "- 官网地址：https://www.linphone.org/\n",
    "- Github：https://github.com/BelledonneCommunications\n",
    "- 开发指南：https://wiki.linphone.org/xwiki/wiki/public/view/Lib/Getting%20started/\n",
    "### 介绍\n",
    "\n",
    "- Linphone 是一款跨平台的可视电话客户端软件，同时支持音视频通话以及发送消息的功能。\n",
    "- 跨平台、开源、有多种语言的API封装\n",
    "- 与IMS网络具有互操作性，适合于构建与VoLTE兼容的客户端\n",
    "- 支持录音、音频会议\n",
    "\n",
    "\n",
    "Linphone 架构中sip 协议的处理基于osip 以及exosip 两个开源库实现，媒体数据的选择整合处理使用mediastream2完成，该软件使用ffmepg、speedx等多款开源软件完成音视频的编解码，并通过ortp 完成基于RTP协议的音视频数据传输。ortp 是一款处理 RTP 会话的开源软件。\n",
    "\n",
    "![](https://md-picture-1254350681.cos.ap-beijing.myqcloud.com/20201212200841.png)\n",
    "\n",
    "### 客户端下载\n",
    "\n",
    "- 全平台（IOS除外）打包下载: https://pan.baidu.com/s/14fzRgnngquyFRXN8tAng5Q  密码: 9m97\n",
    "\n",
    "- [Windows](https://www.linphone.org/releases/windows/app/Linphone-4.2.2-win32.exe)\n",
    "- [Mac](https://www.linphone.org/releases/macosx/app/Linphone-4.2.2-mac.dmg)\n",
    "- [GNU/Linux](https://www.linphone.org/releases/linux/app/Linphone-4.2.2.AppImage)\n",
    "- [安卓](https://apkpremier.com/details/org-linphone)\n",
    "\n",
    "### 使用步骤\n",
    "\n",
    "不同平台下的界面都相似，配置相同，下面演示Mac下的配置步骤\n",
    "\n",
    "1. 打开软件，点击 使用SIP 账号\n",
    "![](https://md-picture-1254350681.cos.ap-beijing.myqcloud.com/20201212103157.png)\n",
    "\n",
    "2. 配置参数如下\n",
    "\n",
    "username和密码由SIP服务器端分配，需要先在SIP服务器上注册终端账号\n",
    "\n",
    "![](https://md-picture-1254350681.cos.ap-beijing.myqcloud.com/20201212105449.png)\n",
    "\n",
    "填写完后点击使用按钮，如果用户名或者密码填写错误，会提示你重新输入用户ID和密码。\n",
    "\n",
    "3. 回到主页，检查左上角用户状态是否注册成功，如果出现红色感叹号，请检查网络和是配置是否有错误。正常情况如下所示，然后就可以拨打电话和发送信息了，在SIP服务器允许的情况下还可以进行视频通话\n",
    "\n",
    "![](https://md-picture-1254350681.cos.ap-beijing.myqcloud.com/20201212194419.png)\n",
    "\n",
    "4. 如果想更改配置或者添加新的配置，可以从偏好设置里进行修改\n",
    "\n",
    "配置参考：\n",
    "![](https://md-picture-1254350681.cos.ap-beijing.myqcloud.com/20201212105842.png)"
   ]
  },
  {
   "cell_type": "markdown",
   "metadata": {},
   "source": [
    "# Telephone\n",
    "\n",
    "- 只能进行SIP服务通话，无其他功能，界面简单。\n",
    "- 可从苹果应用商店直接获取"
   ]
  },
  {
   "cell_type": "markdown",
   "metadata": {},
   "source": [
    "参考：\n",
    "\n",
    " - [可用下载Google Play 上的应用 apk文件网址](https://blog.csdn.net/ganggang4321/article/details/89952637)\n",
    " - [Sip服务器搭建全过程(Linphone拨号)](https://blog.csdn.net/qq_38631503/article/details/80005454)\n",
    " \n",
    " - [Linphone 架构分析研究](https://blog.csdn.net/forest_world/article/details/51504318)"
   ]
  }
 ],
 "metadata": {
  "kernelspec": {
   "display_name": "Python 3",
   "language": "python",
   "name": "python3"
  },
  "language_info": {
   "codemirror_mode": {
    "name": "ipython",
    "version": 3
   },
   "file_extension": ".py",
   "mimetype": "text/x-python",
   "name": "python",
   "nbconvert_exporter": "python",
   "pygments_lexer": "ipython3",
   "version": "3.7.3"
  },
  "toc": {
   "base_numbering": 1,
   "nav_menu": {},
   "number_sections": true,
   "sideBar": true,
   "skip_h1_title": false,
   "title_cell": "Table of Contents",
   "title_sidebar": "Contents",
   "toc_cell": false,
   "toc_position": {},
   "toc_section_display": true,
   "toc_window_display": true
  },
  "varInspector": {
   "cols": {
    "lenName": 16,
    "lenType": 16,
    "lenVar": 40
   },
   "kernels_config": {
    "python": {
     "delete_cmd_postfix": "",
     "delete_cmd_prefix": "del ",
     "library": "var_list.py",
     "varRefreshCmd": "print(var_dic_list())"
    },
    "r": {
     "delete_cmd_postfix": ") ",
     "delete_cmd_prefix": "rm(",
     "library": "var_list.r",
     "varRefreshCmd": "cat(var_dic_list()) "
    }
   },
   "types_to_exclude": [
    "module",
    "function",
    "builtin_function_or_method",
    "instance",
    "_Feature"
   ],
   "window_display": false
  }
 },
 "nbformat": 4,
 "nbformat_minor": 4
}
