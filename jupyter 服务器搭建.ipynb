{
 "cells": [
  {
   "cell_type": "markdown",
   "metadata": {},
   "source": [
    "### 环境准备\n",
    "```bash\n",
    "sudo apt-get install update\n",
    "sudo apt-get install python3 python-pip\n",
    "sudo pip3 install jupyter\n",
    "```\n",
    "\n",
    "\n",
    "### 修改pip源\n",
    "\n",
    "编辑 ~/.pip/pip.conf ，在最上方加入如下内容：\n",
    "```ini\n",
    "[global]\n",
    "index-url = https://mirrors.ustc.edu.cn/pypi/web/simple\n",
    "format = columns\n",
    "```\n",
    "### 虚拟环境（可选）\n",
    "\n",
    "```bash\n",
    "sudo pip install -U virtualenv\n",
    "virtualenv venv -p python3\n",
    "source venv/bin/activate\n",
    "```\n",
    "\n",
    "### 创建登陆密码\n",
    "```python\n",
    "from notebook.auth import passwd\n",
    "print(passwd(\"jupyter\"))\n",
    "```\n",
    "Out[2]: 'sha1:*******************'\n",
    "\n",
    "### 创建ssl证书（https连接需要，http可跳过）\n",
    "\n",
    ">openssl req -x509 -nodes -days 365 -newkey rsa:1024 -keyout mycert.pem -out mycert.pem\n",
    "\n",
    "### 编辑配置文件\n",
    "\n",
    "**jupyter notebook --generate-config**\n",
    "\n",
    "root用户加上--allow-root\n",
    "\n",
    "在当前用户根目录下生成.**.jupyter/jupyter_notebook_config.py**文件\n",
    "修改以下内容：\n",
    "```python\n",
    "c.NotebookApp.allow_remote_access = True  # jupyter 4.5版本以上需要配\n",
    "c.NotebookApp.allow_root = True     #允许root用户运行\n",
    "c.NotebookApp.ip = '*'   # 允许远程访问（备用参数0.0.0.0）\n",
    "c.NotebookApp.notebook_dir = r'/root/jupyter'  # 启动目录\n",
    "c.NotebookApp.open_browser = False    # 默认不启动浏览器\n",
    "c.NotebookApp.password = 'sha1:xxxxxxxxxx' # 上面生成的密钥\n",
    "c.NotebookApp.certfile = u'c:/jpyb/mycert.pem'  # 指定文件路径\n",
    "c.NotebookApp.keyfile = u'c:/jpyb/mykey.key'  # 指定文件路径\n",
    "c.IPKernelApp.pylab = 'inline'    # 所有matplotlib的图像都通过iline的方式显示\n",
    "c.NotebookApp.port = 8888     # 运行的端口\n",
    "\n",
    "```\n",
    "\n",
    " - 查看端口是否占用脚本\n",
    ">netstat -anp|grep 8888\n",
    "\n",
    "### 启动jupyter\n",
    "\n",
    "```bash\n",
    "nohup jupyter notebook &\n",
    "```\n",
    "注：可以写入 sh 脚本，然后设置开机自启\n",
    "\n",
    "### 设置阿里云安全组（非阿里云用户无需这一步）"
   ]
  },
  {
   "cell_type": "markdown",
   "metadata": {},
   "source": [
    "在`控制台`-`云服务器ESC`-`实例` 选择自己的主机点击`本实例安全组`-`安全组列表`-`配置规则`-`入方向`-`添加安全组规则`添加如下图所示配置\n",
    "注：其中端口号填写自己设置的端口\n",
    "![](https://img-blog.csdnimg.cn/20181201142526144.png?x-oss-process=image/watermark,type_ZmFuZ3poZW5naGVpdGk,shadow_10,text_aHR0cHM6Ly9ibG9nLmNzZG4ubmV0L3RoaW5rY2c=,size_16,color_FFFFFF,t_70)"
   ]
  },
  {
   "cell_type": "markdown",
   "metadata": {},
   "source": [
    "### 其他配置\n",
    "\n",
    "#### 更换Logo\n",
    "\n",
    "图片地址：\n",
    "\n",
    ">/usr/local/lib/python3.5/dist-packages/notebook/static/base/images/logo.png\n",
    "\n",
    "#### 扩展插件\n",
    "\n",
    "[github地址](https://github.com/ipython-contrib/jupyter_contrib_nbextensions)\n",
    "\n",
    ">pip3 install jupyter_contrib_nbextensions\n",
    "\n",
    ">pip3 install -U six\n",
    "\n",
    ">jupyter contrib nbextension install --user\n",
    "\n",
    "#### 支持C++内核( 需要minicanda或者新建虚拟环境）\n",
    "\n",
    "https://github.com/QuantStack/xeus-cling\n",
    "\n",
    ">conda install xeus-cling -c conda-forge"
   ]
  },
  {
   "cell_type": "code",
   "execution_count": null,
   "metadata": {},
   "outputs": [],
   "source": []
  }
 ],
 "metadata": {
  "kernelspec": {
   "display_name": "Python 3",
   "language": "python",
   "name": "python3"
  },
  "language_info": {
   "codemirror_mode": {
    "name": "ipython",
    "version": 3
   },
   "file_extension": ".py",
   "mimetype": "text/x-python",
   "name": "python",
   "nbconvert_exporter": "python",
   "pygments_lexer": "ipython3",
   "version": "3.7.3"
  },
  "toc": {
   "base_numbering": 1,
   "nav_menu": {},
   "number_sections": true,
   "sideBar": true,
   "skip_h1_title": false,
   "title_cell": "Table of Contents",
   "title_sidebar": "Contents",
   "toc_cell": false,
   "toc_position": {
    "height": "calc(100% - 180px)",
    "left": "10px",
    "top": "150px",
    "width": "276.943px"
   },
   "toc_section_display": true,
   "toc_window_display": true
  },
  "varInspector": {
   "cols": {
    "lenName": 16,
    "lenType": 16,
    "lenVar": 40
   },
   "kernels_config": {
    "python": {
     "delete_cmd_postfix": "",
     "delete_cmd_prefix": "del ",
     "library": "var_list.py",
     "varRefreshCmd": "print(var_dic_list())"
    },
    "r": {
     "delete_cmd_postfix": ") ",
     "delete_cmd_prefix": "rm(",
     "library": "var_list.r",
     "varRefreshCmd": "cat(var_dic_list()) "
    }
   },
   "types_to_exclude": [
    "module",
    "function",
    "builtin_function_or_method",
    "instance",
    "_Feature"
   ],
   "window_display": false
  }
 },
 "nbformat": 4,
 "nbformat_minor": 2
}
