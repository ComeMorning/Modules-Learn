{
 "cells": [
  {
   "cell_type": "code",
   "execution_count": 1,
   "metadata": {},
   "outputs": [],
   "source": [
    "# -*- coding: cp936 -*- \n",
    "import time\n",
    "from PIL import Image,ImageGrab\n",
    "import os, win32gui, win32ui, win32con, win32api "
   ]
  },
  {
   "cell_type": "code",
   "execution_count": 3,
   "metadata": {},
   "outputs": [],
   "source": [
    "def window_capture(dpath): \n",
    "    '''\n",
    "    截屏函数,调用方法window_capture(‘d:\\\\’) ,参数为指定保存的目录\n",
    "    返回图片文件名,文件名格式:日期.jpg 如:2009328224853.jpg\n",
    "     '''\n",
    "    hwnd = 0 \n",
    "    hwndDC = win32gui.GetWindowDC(hwnd)  \n",
    "    mfcDC=win32ui.CreateDCFromHandle(hwndDC)  \n",
    "    saveDC=mfcDC.CreateCompatibleDC()  \n",
    "    saveBitMap = win32ui.CreateBitmap()  \n",
    "    MoniterDev=win32api.EnumDisplayMonitors(None,None) \n",
    "    w = MoniterDev[0][2][2] \n",
    "    h = MoniterDev[0][2][3] \n",
    "    #print w,h　　　＃图片大小 \n",
    "    saveBitMap.CreateCompatibleBitmap(mfcDC, w, h)  \n",
    "    saveDC.SelectObject(saveBitMap)  \n",
    "    saveDC.BitBlt((0,0),(w, h) , mfcDC, (0,0), win32con.SRCCOPY) \n",
    "    cc=time.gmtime() \n",
    "    bmpname = str(cc[0])+str(cc[1])+str(cc[2])+str(cc[3]+8)+str(cc[4])+str(cc[5])+'.bmp' \n",
    "    saveBitMap.SaveBitmapFile(saveDC, bmpname) \n",
    "    Image.open(bmpname).save(bmpname[:-4] + '.jpg') \n",
    "    os.remove(bmpname) \n",
    "    jpgname=bmpname[:-4]+'.jpg' \n",
    "    djpgname=dpath+jpgname \n",
    "    copy_command = 'move %s %s' % (jpgname, djpgname) \n",
    "    os.popen(copy_command) \n",
    "    return bmpname[:-4]+'.jpg' "
   ]
  },
  {
   "cell_type": "markdown",
   "metadata": {},
   "source": [
    "### 测试win32截屏速度\n",
    "输出结果为0.375秒，也就是说通过windows API每次截图只需要0.0375s，真是快得一逼呀。"
   ]
  },
  {
   "cell_type": "code",
   "execution_count": 45,
   "metadata": {},
   "outputs": [
    {
     "name": "stdout",
     "output_type": "stream",
     "text": [
      "0.339644193649292\n"
     ]
    }
   ],
   "source": [
    "def window_capture(filename):\n",
    "    hwnd = 0 # 窗口的编号，0号表示当前活跃窗口\n",
    "    # 根据窗口句柄获取窗口的设备上下文DC（Divice Context）\n",
    "    hwndDC = win32gui.GetWindowDC(hwnd)\n",
    "    # 根据窗口的DC获取mfcDC\n",
    "    mfcDC = win32ui.CreateDCFromHandle(hwndDC)\n",
    "    # mfcDC创建可兼容的DC\n",
    "    saveDC = mfcDC.CreateCompatibleDC()\n",
    "    # 创建bigmap准备保存图片\n",
    "    saveBitMap = win32ui.CreateBitmap()\n",
    "    # 获取监控器信息\n",
    "    MoniterDev = win32api.EnumDisplayMonitors(None, None)\n",
    "    w = MoniterDev[0][2][2]\n",
    "    h = MoniterDev[0][2][3]\n",
    "    # print w,h　　　#图片大小\n",
    "    # 为bitmap开辟空间\n",
    "    saveBitMap.CreateCompatibleBitmap(mfcDC, w, h)\n",
    "    # 高度saveDC，将截图保存到saveBitmap中\n",
    "    saveDC.SelectObject(saveBitMap)\n",
    "    # 截取从左上角（0，0）长宽为（w，h）的图片\n",
    "    saveDC.BitBlt((0, 0), (w, h), mfcDC, (0, 0), win32con.SRCCOPY)\n",
    "    saveBitMap.SaveBitmapFile(saveDC, filename)\n",
    "beg = time.time()\n",
    "for i in range(10):\n",
    "    window_capture(\"haha.jpg\")\n",
    "end = time.time()\n",
    "print(end - beg)"
   ]
  },
  {
   "cell_type": "markdown",
   "metadata": {},
   "source": [
    "### 改造上面方法"
   ]
  },
  {
   "cell_type": "code",
   "execution_count": 61,
   "metadata": {},
   "outputs": [],
   "source": [
    "def window_capture(filename,box):\n",
    "    '''windows 窗口截图'''\n",
    "    hwnd = 0 # 窗口的编号，0号表示当前活跃窗口\n",
    "    # 根据窗口句柄获取窗口的设备上下文DC（Divice Context）\n",
    "    hwndDC = win32gui.GetWindowDC(hwnd)\n",
    "    # 根据窗口的DC获取mfcDC\n",
    "    mfcDC = win32ui.CreateDCFromHandle(hwndDC)\n",
    "    # mfcDC创建可兼容的DC\n",
    "    saveDC = mfcDC.CreateCompatibleDC()\n",
    "    # 创建bigmap准备保存图片\n",
    "    saveBitMap = win32ui.CreateBitmap()\n",
    "    # 获取监控器信息\n",
    "    w = box[2] - box[0]\n",
    "    h = box[3] - box[1]\n",
    "    # 为bitmap开辟空间\n",
    "    saveBitMap.CreateCompatibleBitmap(mfcDC, w, h)\n",
    "    # 高度saveDC，将截图保存到saveBitmap中\n",
    "    saveDC.SelectObject(saveBitMap)\n",
    "    # 截取从左上角（0，0）长宽为（w，h）的图片\n",
    "    #  参数 (原点)（右下点） mfcDC （左上点）\n",
    "    saveDC.BitBlt((0,0), (box[2], box[3]), mfcDC, (box[0], box[1]), win32con.SRCCOPY)\n",
    "    saveBitMap.SaveBitmapFile(saveDC, filename)"
   ]
  },
  {
   "cell_type": "markdown",
   "metadata": {},
   "source": [
    "### 获取鼠标位置"
   ]
  },
  {
   "cell_type": "code",
   "execution_count": 4,
   "metadata": {
    "scrolled": true
   },
   "outputs": [
    {
     "data": {
      "text/plain": [
       "(1089, 406)"
      ]
     },
     "execution_count": 4,
     "metadata": {},
     "output_type": "execute_result"
    }
   ],
   "source": [
    "win32gui.GetCursorPos()"
   ]
  },
  {
   "cell_type": "markdown",
   "metadata": {},
   "source": [
    "### 获取屏幕分辨率"
   ]
  },
  {
   "cell_type": "code",
   "execution_count": 8,
   "metadata": {
    "scrolled": true
   },
   "outputs": [
    {
     "data": {
      "text/plain": [
       "(1920, 1080)"
      ]
     },
     "execution_count": 8,
     "metadata": {},
     "output_type": "execute_result"
    }
   ],
   "source": [
    "def getResolution():\n",
    "    width = win32api.GetSystemMetrics(win32con.SM_CXSCREEN)\n",
    "    height = win32api.GetSystemMetrics(win32con.SM_CYSCREEN)\n",
    "    return width,height\n",
    "getResolution()"
   ]
  },
  {
   "cell_type": "code",
   "execution_count": 10,
   "metadata": {},
   "outputs": [
    {
     "data": {
      "text/plain": [
       "864.0"
      ]
     },
     "execution_count": 10,
     "metadata": {},
     "output_type": "execute_result"
    }
   ],
   "source": [
    "1080 /1.25"
   ]
  },
  {
   "cell_type": "code",
   "execution_count": 7,
   "metadata": {},
   "outputs": [
    {
     "data": {
      "text/plain": [
       "1920.0"
      ]
     },
     "execution_count": 7,
     "metadata": {},
     "output_type": "execute_result"
    }
   ],
   "source": [
    "1536 *1.25"
   ]
  },
  {
   "cell_type": "code",
   "execution_count": 10,
   "metadata": {
    "scrolled": true
   },
   "outputs": [
    {
     "data": {
      "text/plain": [
       "1080.0"
      ]
     },
     "execution_count": 10,
     "metadata": {},
     "output_type": "execute_result"
    }
   ],
   "source": [
    "864*1.25"
   ]
  },
  {
   "cell_type": "markdown",
   "metadata": {},
   "source": [
    "### 修改屏幕分辨率"
   ]
  },
  {
   "cell_type": "code",
   "execution_count": 18,
   "metadata": {},
   "outputs": [
    {
     "data": {
      "text/plain": [
       "(1920, 1080)"
      ]
     },
     "execution_count": 18,
     "metadata": {},
     "output_type": "execute_result"
    }
   ],
   "source": [
    "import win32api\n",
    "def setResolution(width= 1920,height= 1080):\n",
    "    dm = win32api.EnumDisplaySettings(None, 0)\n",
    "    dm.PelsHeight = height\n",
    "    dm.PelsWidth = width\n",
    "    dm.BitsPerPel = 32\n",
    "    dm.DisplayFixedOutput = 0\n",
    "    win32api.ChangeDisplaySettings(dm, 0)\n",
    "    \n",
    "setResolution()\n",
    "getResolution()"
   ]
  },
  {
   "attachments": {
    "image.png": {
     "image/png": "[encoded data removed]"
    }
   },
   "cell_type": "markdown",
   "metadata": {},
   "source": [
    "### 获取某个窗口的尺寸（两个函数结果一样）GetClientRect ￥GetWindowRect\n",
    "![image.png](attachment:image.png)"
   ]
  },
  {
   "cell_type": "code",
   "execution_count": 5,
   "metadata": {},
   "outputs": [
    {
     "data": {
      "text/plain": [
       "'hwnd is 10010'"
      ]
     },
     "execution_count": 5,
     "metadata": {},
     "output_type": "execute_result"
    }
   ],
   "source": [
    "import win32api\n",
    "import win32gui\n",
    "import win32con\n",
    "#获取桌面\n",
    "hwnd = win32gui.GetDesktopWindow()\n",
    "u\"hwnd is %x\" %(hwnd)"
   ]
  },
  {
   "cell_type": "code",
   "execution_count": 6,
   "metadata": {},
   "outputs": [
    {
     "name": "stdout",
     "output_type": "stream",
     "text": [
      "0 0 1536 864\n"
     ]
    }
   ],
   "source": [
    "(left, top, right, bottom) = win32gui.GetClientRect(hwnd)\n",
    "print(left, top, right, bottom)"
   ]
  },
  {
   "cell_type": "markdown",
   "metadata": {},
   "source": [
    "### 下面4句依次寻找对象，直到找到输入框Edit对象的句柄\n",
    "![示例网址]:(http://www.sahitest.com/demo/php/fileUpload.htm)"
   ]
  },
  {
   "cell_type": "code",
   "execution_count": 57,
   "metadata": {},
   "outputs": [
    {
     "data": {
      "text/plain": [
       "787452"
      ]
     },
     "execution_count": 57,
     "metadata": {},
     "output_type": "execute_result"
    }
   ],
   "source": [
    "dialog = win32gui.FindWindow('#32770',u'文件上传')\n",
    "dialog"
   ]
  },
  {
   "cell_type": "code",
   "execution_count": 58,
   "metadata": {},
   "outputs": [
    {
     "data": {
      "text/plain": [
       "394054"
      ]
     },
     "execution_count": 58,
     "metadata": {},
     "output_type": "execute_result"
    }
   ],
   "source": [
    "ComboBoxEx32 = win32gui.FindWindowEx(dialog,0,\"ComboBoxEx32\",None)\n",
    "ComboBoxEx32"
   ]
  },
  {
   "cell_type": "code",
   "execution_count": 59,
   "metadata": {},
   "outputs": [
    {
     "data": {
      "text/plain": [
       "394002"
      ]
     },
     "execution_count": 59,
     "metadata": {},
     "output_type": "execute_result"
    }
   ],
   "source": [
    "ComboBox = win32gui.FindWindowEx(ComboBoxEx32, 0, 'ComboBox', None)\n",
    "ComboBox"
   ]
  },
  {
   "cell_type": "code",
   "execution_count": 60,
   "metadata": {},
   "outputs": [
    {
     "data": {
      "text/plain": [
       "525078"
      ]
     },
     "execution_count": 60,
     "metadata": {},
     "output_type": "execute_result"
    }
   ],
   "source": [
    "Edit = win32gui.FindWindowEx(ComboBox, 0, 'Edit', None)\n",
    "Edit"
   ]
  },
  {
   "cell_type": "code",
   "execution_count": 61,
   "metadata": {},
   "outputs": [
    {
     "data": {
      "text/plain": [
       "394012"
      ]
     },
     "execution_count": 61,
     "metadata": {},
     "output_type": "execute_result"
    }
   ],
   "source": [
    "button = win32gui.FindWindowEx(dialog, 0, 'Button', None) # 确定按钮\n",
    "button"
   ]
  },
  {
   "cell_type": "code",
   "execution_count": 62,
   "metadata": {},
   "outputs": [
    {
     "data": {
      "text/plain": [
       "1"
      ]
     },
     "execution_count": 62,
     "metadata": {},
     "output_type": "execute_result"
    }
   ],
   "source": [
    "win32gui.SendMessage(Edit, win32con.WM_SETTEXT, None, '2018314104524.jpg')# 往输入框输入绝对地址"
   ]
  },
  {
   "cell_type": "code",
   "execution_count": 63,
   "metadata": {},
   "outputs": [
    {
     "data": {
      "text/plain": [
       "0"
      ]
     },
     "execution_count": 63,
     "metadata": {},
     "output_type": "execute_result"
    }
   ],
   "source": [
    "win32gui.SendMessage(dialog, win32con.WM_COMMAND, 1, button) \n",
    "# 按button "
   ]
  },
  {
   "cell_type": "markdown",
   "metadata": {},
   "source": [
    "## Lib/site-packages/win32/Demos/win32gui_demo.py"
   ]
  },
  {
   "cell_type": "code",
   "execution_count": null,
   "metadata": {
    "collapsed": true
   },
   "outputs": [],
   "source": []
  }
 ],
 "metadata": {
  "kernelspec": {
   "display_name": "Python 3",
   "language": "python",
   "name": "python3"
  },
  "language_info": {
   "codemirror_mode": {
    "name": "ipython",
    "version": 3
   },
   "file_extension": ".py",
   "mimetype": "text/x-python",
   "name": "python",
   "nbconvert_exporter": "python",
   "pygments_lexer": "ipython3",
   "version": "3.6.4"
  },
  "toc": {
   "base_numbering": 1,
   "nav_menu": {},
   "number_sections": true,
   "sideBar": true,
   "skip_h1_title": false,
   "title_cell": "Table of Contents",
   "title_sidebar": "Contents",
   "toc_cell": false,
   "toc_position": {},
   "toc_section_display": true,
   "toc_window_display": true
  },
  "varInspector": {
   "cols": {
    "lenName": 16,
    "lenType": 16,
    "lenVar": 40
   },
   "kernels_config": {
    "python": {
     "delete_cmd_postfix": "",
     "delete_cmd_prefix": "del ",
     "library": "var_list.py",
     "varRefreshCmd": "print(var_dic_list())"
    },
    "r": {
     "delete_cmd_postfix": ") ",
     "delete_cmd_prefix": "rm(",
     "library": "var_list.r",
     "varRefreshCmd": "cat(var_dic_list()) "
    }
   },
   "types_to_exclude": [
    "module",
    "function",
    "builtin_function_or_method",
    "instance",
    "_Feature"
   ],
   "window_display": false
  }
 },
 "nbformat": 4,
 "nbformat_minor": 2
}
