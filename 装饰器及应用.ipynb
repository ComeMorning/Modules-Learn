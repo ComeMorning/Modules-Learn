{
 "cells": [
  {
   "cell_type": "markdown",
   "metadata": {},
   "source": [
    "参考：https://blog.csdn.net/len9596/article/details/79990823"
   ]
  },
  {
   "cell_type": "markdown",
   "metadata": {},
   "source": [
    "# 简单装饰器"
   ]
  },
  {
   "cell_type": "code",
   "execution_count": 70,
   "metadata": {},
   "outputs": [
    {
     "name": "stderr",
     "output_type": "stream",
     "text": [
      "WARNING:root:bar is running\n"
     ]
    },
    {
     "name": "stdout",
     "output_type": "stream",
     "text": [
      "I am bar\n",
      "wrapper\n",
      "测试\n"
     ]
    }
   ],
   "source": [
    "def use_logging(func):\n",
    "    def wrapper(*args,**kwargs):\n",
    "        logging.warning(\"%s is running\"% func.__name__)\n",
    "        return func(*args,**kwargs)\n",
    "    wrapper.__doc__ = func.__doc__\n",
    "    return wrapper\n",
    "\n",
    "\n",
    "def bar():\n",
    "    \"\"\"测试\"\"\"\n",
    "    print('I am bar')\n",
    "\n",
    "bar = use_logging(bar)\n",
    "bar()\n",
    "print(bar.__name__)\n",
    "print(bar.__doc__)"
   ]
  },
  {
   "cell_type": "markdown",
   "metadata": {},
   "source": [
    "函数use_logging就是装饰器，它把执行真正业务方法的func包裹在函数里面，看起来像bar被use_logging装饰了。在这个例子中，函数进入和退出时 ，被称为一个**横切面(Aspect)**，这种编程方式被称为**面向切面的编程(Aspect-Oriented Programming)。**\n",
    "\n",
    "@符号可以理解为避免再一次赋值操作的 **简写** \n",
    "\n",
    "```\n",
    "@ 等价于 a = d(a)\n",
    "```\n",
    "\n",
    "这样我们就可以省去bar = use_logging(bar)这一句了，直接调用bar()即可得到想要的结果。\n",
    "\n",
    "注意：\n",
    "1. 原函数的一些元属性会丢失，比如: 文档字符串`__doc__`，需要重新赋值给内部函数。\n",
    "\n",
    "2. 参数要通过`(*args,**kwargs)` 全部传递过去。\n",
    "\n",
    "3. 内部函数的返回值，是对被装饰函数简单调用就结束，还是 `return` 其返回值。"
   ]
  },
  {
   "cell_type": "code",
   "execution_count": 73,
   "metadata": {},
   "outputs": [
    {
     "name": "stderr",
     "output_type": "stream",
     "text": [
      "WARNING:root:bar is running\n"
     ]
    },
    {
     "name": "stdout",
     "output_type": "stream",
     "text": [
      "param is 3\n",
      "I am bar\n",
      "wrapper\n"
     ]
    }
   ],
   "source": [
    "@use_logging\n",
    "def bar(param=2):\n",
    "    print('param is: {}'.format(param))\n",
    "    return 'I am bar'\n",
    "\n",
    "\n",
    "print(bar(param=3))\n",
    "print(bar.__name__)"
   ]
  },
  {
   "cell_type": "markdown",
   "metadata": {},
   "source": [
    "# 带参数\n",
    "\n",
    "在上面的装饰器调用中，比如@use_logging，该装饰器唯一的参数就是执行业务的函数。装饰器的语法允许我们在调用时，提供其它参数，比如\n",
    "```\n",
    "@decorator(a)\n",
    "```\n",
    "这样，就为装饰器的编写和使用提供了更大的灵活性。\n",
    "\n",
    "在`decorator(a)`阶段 ,就已经发生了一次函数调用，并返回了像上面所说的简单装饰器函数use_logging，所以`decorator` 函数具体实现方法，就是在简单装饰器上再包装一层函数，将简单装饰器作为返回值。"
   ]
  },
  {
   "cell_type": "code",
   "execution_count": 76,
   "metadata": {},
   "outputs": [
    {
     "name": "stderr",
     "output_type": "stream",
     "text": [
      "WARNING:root:foo is running\n"
     ]
    },
    {
     "name": "stdout",
     "output_type": "stream",
     "text": [
      "I am bar\n"
     ]
    }
   ],
   "source": [
    "import logging\n",
    "\n",
    "\n",
    "def use_logging(level):\n",
    "    def decorator(func):\n",
    "        def wrapper(*args, **kwargs):\n",
    "            if level == \"warn\":\n",
    "                logging.warning(\"%s is running\" % func.__name__)\n",
    "            return func(*args, **kwargs)\n",
    "\n",
    "        return wrapper\n",
    "    return decorator\n",
    "\n",
    "\n",
    "\n",
    "# 不用@ 符号写法\n",
    "def foo(name='foo'):\n",
    "    print('I am bar')\n",
    "\n",
    "foo = use_logging('warn')(foo)\n",
    "foo()"
   ]
  },
  {
   "cell_type": "code",
   "execution_count": 77,
   "metadata": {},
   "outputs": [
    {
     "name": "stderr",
     "output_type": "stream",
     "text": [
      "WARNING:root:foo is running\n"
     ]
    },
    {
     "name": "stdout",
     "output_type": "stream",
     "text": [
      "I am bar\n",
      "wrapper\n"
     ]
    }
   ],
   "source": [
    "@use_logging(\"warn\")\n",
    "def foo(name='foo'):\n",
    "    print('I am bar')\n",
    "\n",
    "foo()\n",
    "print(foo.__name__)"
   ]
  },
  {
   "cell_type": "markdown",
   "metadata": {},
   "source": [
    "# 类装饰器\n",
    "\n",
    "相比函数装饰器，类装饰器具有灵活度大、高内聚、封装性等优点。使用类装饰器还可以依靠类内部的`__call__`方法，当使用 @ 形式将装饰器附加到函数上时，就会调用此方法。"
   ]
  },
  {
   "cell_type": "code",
   "execution_count": 89,
   "metadata": {},
   "outputs": [
    {
     "name": "stdout",
     "output_type": "stream",
     "text": [
      "class decorator runing\n",
      "bar\n",
      "class decorator ending\n",
      "test doc\n"
     ]
    }
   ],
   "source": [
    "class Foo(object):\n",
    "    def __init__(self, func):\n",
    "        self._func = func\n",
    "        self.__doc__ = func.__doc__\n",
    "\n",
    "    def __call__(self):\n",
    "        print('class decorator runing')\n",
    "        self._func()\n",
    "        print('class decorator ending')\n",
    "\n",
    "\n",
    "@Foo\n",
    "def bar():\n",
    "    \"\"\"test doc\"\"\"\n",
    "    print('bar')\n",
    "\n",
    "\n",
    "bar()\n",
    "print(bar.__doc__)"
   ]
  },
  {
   "cell_type": "markdown",
   "metadata": {},
   "source": [
    "同样的，原函数的元信息不见了，比如函数的docstring、name、参数列表，需要手动传递进去。"
   ]
  },
  {
   "cell_type": "markdown",
   "metadata": {},
   "source": [
    "# 内置装饰器\n",
    "\n",
    "- @staticmathod\n",
    "- @classmethod\n",
    "- @property"
   ]
  },
  {
   "cell_type": "markdown",
   "metadata": {},
   "source": [
    "# 装饰器的运行顺序: 从下往上\n",
    "```py\n",
    "@a\n",
    "@b\n",
    "@c\n",
    "def f ():\n",
    "```\n",
    "等效于\n",
    "\n",
    "```py\n",
    "f = a(b(c(f)))\n",
    "```"
   ]
  },
  {
   "cell_type": "code",
   "execution_count": null,
   "metadata": {},
   "outputs": [],
   "source": []
  }
 ],
 "metadata": {
  "kernelspec": {
   "display_name": "Python 3",
   "language": "python",
   "name": "python3"
  },
  "language_info": {
   "codemirror_mode": {
    "name": "ipython",
    "version": 3
   },
   "file_extension": ".py",
   "mimetype": "text/x-python",
   "name": "python",
   "nbconvert_exporter": "python",
   "pygments_lexer": "ipython3",
   "version": "3.7.3"
  },
  "toc": {
   "base_numbering": 1,
   "nav_menu": {},
   "number_sections": true,
   "sideBar": true,
   "skip_h1_title": false,
   "title_cell": "Table of Contents",
   "title_sidebar": "Contents",
   "toc_cell": false,
   "toc_position": {},
   "toc_section_display": true,
   "toc_window_display": false
  },
  "varInspector": {
   "cols": {
    "lenName": 16,
    "lenType": 16,
    "lenVar": 40
   },
   "kernels_config": {
    "python": {
     "delete_cmd_postfix": "",
     "delete_cmd_prefix": "del ",
     "library": "var_list.py",
     "varRefreshCmd": "print(var_dic_list())"
    },
    "r": {
     "delete_cmd_postfix": ") ",
     "delete_cmd_prefix": "rm(",
     "library": "var_list.r",
     "varRefreshCmd": "cat(var_dic_list()) "
    }
   },
   "types_to_exclude": [
    "module",
    "function",
    "builtin_function_or_method",
    "instance",
    "_Feature"
   ],
   "window_display": false
  }
 },
 "nbformat": 4,
 "nbformat_minor": 2
}
