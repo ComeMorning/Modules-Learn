{
 "cells": [
  {
   "cell_type": "code",
   "execution_count": 4,
   "metadata": {},
   "outputs": [
    {
     "data": {
      "text/plain": [
       "'D:\\\\OneDrive - business\\\\jupyter notebook\\\\Modules-Learn'"
      ]
     },
     "execution_count": 4,
     "metadata": {},
     "output_type": "execute_result"
    }
   ],
   "source": [
    "import errno\n",
    "import logging\n",
    "import os\n",
    "import sys\n",
    "from logging.handlers import RotatingFileHandler\n",
    "\n",
    "APP_ROOT = os.path.dirname(os.path.abspath(__file__))\n",
    "# APP_ROOT = os.getcwd()\n",
    "\n",
    "#####################\n",
    "#   logs settings   #\n",
    "#####################\n",
    "# folder where logs will be stored\n",
    "LOG_FILE_PATH = os.path.normpath(os.path.join(APP_ROOT, \"./logs/log.log\"))\n",
    "print(LOG_FILE_PATH)\n",
    "# log level for logging\n",
    "APP_LOG_LEVEL = logging.DEBUG\n",
    "\n",
    "# max size for log file in bytes\n",
    "MAIN_LOG_FILE_MAX_SIZE = 1024 * 1024 * 32\n",
    "\n",
    "# max count for log files\n",
    "LOG_BACKUPS_COUNT = 20\n",
    "\n",
    "# log format\n",
    "LOG_FORMAT = '%(asctime)s [%(threadName)s:%(thread)d] [%(name)s:%(lineno)d] [%(levelname)s]- %(message)s'\n",
    "\n",
    "# send copy of all log messages to console\n",
    "LOG_TO_CONSOLE = True\n",
    "\n",
    "\n",
    "def mkdir_p_ex(path):\n",
    "    try:\n",
    "        if os.path.exists(path) and os.path.isdir(path):\n",
    "            return True, None\n",
    "\n",
    "        os.makedirs(path)\n",
    "        return True, None\n",
    "    except OSError as exc:  # Python >2.5\n",
    "        if exc.errno == errno.EEXIST and os.path.isdir(path):\n",
    "            return True, None\n",
    "        else:\n",
    "            return False, str(exc)\n",
    "    except Exception as e:\n",
    "        return False, str(e)\n",
    "\n",
    "\n",
    "def mkdir_p(path):\n",
    "    (ok, stub) = mkdir_p_ex(path)\n",
    "    return ok\n",
    "\n",
    "\n",
    "def init_logger(mainLoggerName=__name__):\n",
    "    logger = logging.getLogger(mainLoggerName)\n",
    "\n",
    "    logsDirPath = os.path.dirname(LOG_FILE_PATH)\n",
    "    if not os.path.exists(logsDirPath):\n",
    "        if not mkdir_p(logsDirPath):\n",
    "            print(\"ERROR INITIALIZING! Can't create directory for logs: '{}'\".format(logsDirPath))\n",
    "            exit(-1)\n",
    "\n",
    "    # create file handler\n",
    "    handler = RotatingFileHandler(\n",
    "        LOG_FILE_PATH,\n",
    "        encoding=\"utf-8\",\n",
    "        maxBytes=MAIN_LOG_FILE_MAX_SIZE,\n",
    "        backupCount=LOG_BACKUPS_COUNT\n",
    "    )\n",
    "    handler.setLevel(logging.DEBUG)\n",
    "\n",
    "    # create formatter\n",
    "    formatter = logging.Formatter(LOG_FORMAT)\n",
    "    handler.setFormatter(formatter)\n",
    "    logger.addHandler(handler)\n",
    "\n",
    "    if LOG_TO_CONSOLE:\n",
    "        consoleHandler = logging.StreamHandler(sys.stdout)\n",
    "        consoleHandler.setLevel(APP_LOG_LEVEL)\n",
    "        consoleHandler.setFormatter(formatter)\n",
    "        logger.addHandler(consoleHandler)\n",
    "\n",
    "    logger.setLevel(APP_LOG_LEVEL)\n",
    "    return logger\n",
    "\n",
    "\n",
    "if __name__ == '__main__':\n",
    "    logger = init_logger('test')\n",
    "    logger.error(\"hello world\")\n"
   ]
  }
 ],
 "metadata": {
  "kernelspec": {
   "display_name": "Python 3",
   "language": "python",
   "name": "python3"
  },
  "language_info": {
   "codemirror_mode": {
    "name": "ipython",
    "version": 3
   },
   "file_extension": ".py",
   "mimetype": "text/x-python",
   "name": "python",
   "nbconvert_exporter": "python",
   "pygments_lexer": "ipython3",
   "version": "3.7.3"
  },
  "toc": {
   "base_numbering": 1,
   "nav_menu": {},
   "number_sections": true,
   "sideBar": true,
   "skip_h1_title": false,
   "title_cell": "Table of Contents",
   "title_sidebar": "Contents",
   "toc_cell": false,
   "toc_position": {},
   "toc_section_display": true,
   "toc_window_display": false
  },
  "varInspector": {
   "cols": {
    "lenName": 16,
    "lenType": 16,
    "lenVar": 40
   },
   "kernels_config": {
    "python": {
     "delete_cmd_postfix": "",
     "delete_cmd_prefix": "del ",
     "library": "var_list.py",
     "varRefreshCmd": "print(var_dic_list())"
    },
    "r": {
     "delete_cmd_postfix": ") ",
     "delete_cmd_prefix": "rm(",
     "library": "var_list.r",
     "varRefreshCmd": "cat(var_dic_list()) "
    }
   },
   "types_to_exclude": [
    "module",
    "function",
    "builtin_function_or_method",
    "instance",
    "_Feature"
   ],
   "window_display": false
  }
 },
 "nbformat": 4,
 "nbformat_minor": 2
}
