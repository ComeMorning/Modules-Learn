{
 "cells": [
  {
   "cell_type": "markdown",
   "metadata": {},
   "source": [
    "- 对python数据类型和C数据的转换、包装\n",
    "\n",
    "- C语言中数据类型是如何在python中转换的\n",
    "\n",
    "- python如何使用C的方法、函数（如果传入参数为python数据类型则需要类型转换，如果传入从ctypes定义的C的数据类型则不需要转换）"
   ]
  },
  {
   "cell_type": "markdown",
   "metadata": {},
   "source": [
    "# 加载 dll 和取出函数\n",
    "\n",
    "```python\n",
    "from ctypes import *\n",
    "dll = cdll.LoadLibrary(dllpath)   #dllpath是字符串\n",
    "dll = windll.LoadLibrary(dllpath)\n",
    "```\n",
    "\n",
    "上面两行使用哪一行,取决于导出函数的调用规范(cdecl 或 stdcall).也可以使用下面两行代替:\n",
    "\n",
    "```python\n",
    "dll = CDLL(dllpath)    #注意和上面大小写的区别\n",
    "dll = WinDLL(dllpath)\n",
    "```\n",
    "\n",
    "注意,这里使用的 dll 必须和 python 平台匹配,比如都是 32 位的或者都是 64 位的。因为本质上是一个 exe 加载一个 dll，无法跨平台。\n",
    "\n",
    "加载 dll 后,可直接得到 dll 中的导出函数地址.\n",
    "\n",
    "```python\n",
    "func = dll.func_name  #func_name 是dll的导出函数\n",
    "```\n",
    "\n",
    "有时动态链接库导出 c++函数时，并不是有效的 Python 标识符，例如 \"??2@YAPAXI@Z\" 。这种情况下，必须使用 getattr 获取函数:\n",
    "\n",
    "```python\n",
    "func = getattr(cdll.msvcrt, \"??2@YAPAXI@Z\")\n",
    "```\n",
    "\n",
    "在 Windows 上，有些动态链接库导出函数不是用名字，而是用序号(ordinal)。这时需通过索引获取：\n",
    "\n",
    "```python\n",
    "func = cdll.kernel32[1]\n",
    "```"
   ]
  },
  {
   "cell_type": "markdown",
   "metadata": {},
   "source": [
    "# 数据类型\n",
    "上面只是得到了函数地址,还无法进行函数调用.要进行正确的函数调用,需设置好参数和返回值类型.\n",
    "ctypes 支持的原生数据类型如下:\n",
    "\n",
    "| ctypes 类型          | C 类型                                         | Python 类型                                |\n",
    "| -------------------- | ---------------------------------------------- | ------------------------------------------ |\n",
    "| c_char               | char                                           | 1-character string                         |\n",
    "| c_wchar              | wchar_t                                        | 1-character unicode string                 |\n",
    "| c_byte               | char                                           | int/long                                   |\n",
    "| c_ubyte              | unsigned char                                  | int/long                                   |\n",
    "| c_bool               | bool                                           | bool                                       |\n",
    "| c_short              | short                                          | int/long                                   |\n",
    "| c_ushort             | unsigned short                                 | int/long                                   |\n",
    "| c_int                | int                                            | int/long                                   |\n",
    "| c_uint               | unsigned int                                   | int/long                                   |\n",
    "| c_long               | long                                           | int/long                                   |\n",
    "| c_ulong              | unsigned long                                  | int/long                                   |\n",
    "| c_longlong           | \\_\\_int64 or longlong                          | int/long                                   |\n",
    "| c_ulonglong          | unsigned \\_\\_int64 or unsigned long long       | int/long                                   |\n",
    "| c_float              | float                                          | float                                      |\n",
    "| c_double             | double                                         | float                                      |\n",
    "| c_longdouble         | long double float                              | float                                      |\n",
    "| c_char_p             | char \\*                                        | string or None                             |\n",
    "| c_wchar_p            | wchar_t \\*                                     | unicode or None                            |\n",
    "| c_void_p             | void \\*                                        | int/long or None                           |\n"
   ]
  },
  {
   "cell_type": "markdown",
   "metadata": {},
   "source": [
    "# 参数和返回值\n",
    "\n",
    "**设置函数的参数类型**\n",
    "使用函数的 argtypes 属性,直接赋值为一个 ctypes 类型的列表或元组。设置函数的返回值类型使用函数的 restype 属性。下面是示例代码：\n",
    "python 中，默认函数返回值是 c_int 型，此类型可以不用显示设置函数的 restype 属性，如果是参数类型是 c_int 型则需要设置。\n",
    "\n",
    "```python\n",
    "fun.argtypes = (c_int, c_int,c_int, c_void_p) #设置函数参数类型为 int,int,int,void *\n",
    "fun.restype  = c_float #设置返回值类型为 float\n",
    "```\n",
    "\n",
    "None、整数、字节串和（unicode）字符串是可以作为本地 Python 对象直接传递给函数调用的。\n",
    "\n",
    "- None 是作为 C 的 NULL 指针传递。\n",
    "- 字节串和字符串作为内存块指针传递(char* 或 wchar_t*)。\n",
    "- Python 整数作为平台相关的 C 语言 int 类型传递，其值会截断到 C 类型。\n",
    "\n",
    "除了整数、字节串和字符串以外 Python 类型的参数传递，必须使用 ctypes 类型做包装。\n",
    "\n",
    "在调用函数时，如果使用了错误的参数数量和调用规范时，ctypes 尝试保护调用。不幸的是该功能仅在 Windows 上有用。它通过检查函数返回栈来实现，所以尽管发生了错误，但是函数还是调用了。\n",
    "这很容易导致当前使用的整个 Python 环境崩溃，所以必须很小心的使用。\n",
    "\n",
    "除了上述的基本类型，ctypes 还支持自定义的结构体和联合体，它们可以出现在函数的参数或返回值中。\n",
    "\n",
    "例如：\n",
    "```python\n",
    "func.argtypes = (ctypes.c_int, ctypes.c_int)\n",
    "func.restype = ctypes.c_uint\n",
    "handle = func(1001, 1)\n",
    "```"
   ]
  },
  {
   "cell_type": "markdown",
   "metadata": {},
   "source": [
    "# 结构体\n",
    "\n",
    "自定义的结构体和联合体必须继承自 ctypes 的 Structure 和 Union，这两个类都在 ctypes 模块中定义。\n",
    "每一个子类必须定义\"\\_fields\\_\"属性，\"\\_fields\\_\"是一个二维的 tuples 列表，\n",
    "描述类的每个数据成员的字段名和字段类型，这里的字段类型必须是一个 ctypes 类型，\n",
    "如 c_int，或者任何其他的继承 ctypes 的类型，如 Structure, Union, Array, 指针等。\n",
    "\n",
    "例如有一个简单结构，包含两个整型 x 和 y，可如下初始化一个结构："
   ]
  },
  {
   "cell_type": "code",
   "execution_count": 1,
   "metadata": {},
   "outputs": [],
   "source": [
    "from ctypes import *"
   ]
  },
  {
   "cell_type": "code",
   "execution_count": 2,
   "metadata": {},
   "outputs": [
    {
     "name": "stdout",
     "output_type": "stream",
     "text": [
      "1 2\n"
     ]
    }
   ],
   "source": [
    "class Point(Structure):  \n",
    "    _fields_ = [('x', c_int),  \n",
    "                ('y', c_int)]  \n",
    "p1 = Point(1,2)  \n",
    "print(p1.x, p1.y) #输出 1 2"
   ]
  },
  {
   "cell_type": "code",
   "execution_count": 3,
   "metadata": {},
   "outputs": [
    {
     "data": {
      "text/plain": [
       "__main__.Point_Array_10"
      ]
     },
     "execution_count": 3,
     "metadata": {},
     "output_type": "execute_result"
    }
   ],
   "source": [
    "# 类型创建\n",
    "Point*10"
   ]
  },
  {
   "cell_type": "code",
   "execution_count": 4,
   "metadata": {},
   "outputs": [
    {
     "name": "stdout",
     "output_type": "stream",
     "text": [
      "1 2\n",
      "0 0\n"
     ]
    }
   ],
   "source": [
    "#可以创建复杂的结构体,嵌套了其它结构体。如下：\n",
    "\n",
    "class RECT(Structure):\n",
    "    _fields_ = [(\"upperleft\", Point),\n",
    "                (\"lowerright\", Point)]\n",
    "\n",
    "rc = RECT(p1)\n",
    "print(rc.upperleft.x, rc.upperleft.y)   #输出 1 2\n",
    "print(rc.lowerright.x, rc.lowerright.y) #输出 0 0"
   ]
  },
  {
   "cell_type": "code",
   "execution_count": 5,
   "metadata": {},
   "outputs": [],
   "source": [
    "#嵌套结构体可以通过下面多种方法初始化：\n",
    "rc2 = RECT(Point(1,2), Point(3,4))\n",
    "rc3 = RECT((1,2), (3,4))"
   ]
  },
  {
   "cell_type": "code",
   "execution_count": 6,
   "metadata": {},
   "outputs": [],
   "source": [
    "# 如结构体用于链表操作，即包含指向结构体指针时\n",
    "class Test(Structure):  \n",
    "    pass  \n",
    "\n",
    "Test._fields_ = [('x', c_int),  \n",
    "                 ('y', c_char),  \n",
    "                 ('next', POINTER(Test))]  "
   ]
  },
  {
   "cell_type": "markdown",
   "metadata": {},
   "source": [
    "# 数组\n",
    "\n",
    "数组就是序列，包含固定数量的相同类型的实例。推荐的创建数组类型的方式是使用正数和乘号应用到类型:"
   ]
  },
  {
   "cell_type": "code",
   "execution_count": 7,
   "metadata": {
    "scrolled": true
   },
   "outputs": [
    {
     "name": "stdout",
     "output_type": "stream",
     "text": [
      "0 0\n",
      "0 0\n",
      "0 0\n",
      "0 0\n",
      "0 0\n",
      "0 0\n",
      "0 0\n",
      "0 0\n",
      "0 0\n",
      "0 0\n"
     ]
    }
   ],
   "source": [
    "# 结构体数组\n",
    "class POINT(Structure):\n",
    "    _fields_ = [(\"x\", c_int), (\"y\", c_int)]\n",
    "\n",
    "\n",
    "#创建数组类型,它是10个Point元素组成的数组。\n",
    "TenPointsArrayType = POINT * 10\n",
    "#创建一个数组类的对象。\n",
    "arr = TenPointsArrayType()\n",
    "for pt in arr:\n",
    "    print(pt.x, pt.y)"
   ]
  },
  {
   "cell_type": "code",
   "execution_count": 8,
   "metadata": {},
   "outputs": [
    {
     "name": "stdout",
     "output_type": "stream",
     "text": [
      "4\n"
     ]
    }
   ],
   "source": [
    "class MyStruct(Structure):\n",
    "    _fields_ = [(\"a\", c_int), (\"b\", c_float),\n",
    "                (\"pts\", POINT * 4)]  # 声明类型，相当于C语言的:  POINT pts[4]\n",
    "\n",
    "print(len(MyStruct().pts))  #输出  4"
   ]
  },
  {
   "cell_type": "code",
   "execution_count": 9,
   "metadata": {},
   "outputs": [
    {
     "name": "stdout",
     "output_type": "stream",
     "text": [
      "1\n",
      "2\n",
      "3\n",
      "4\n",
      "5\n",
      "6\n",
      "7\n",
      "8\n",
      "9\n",
      "10\n"
     ]
    }
   ],
   "source": [
    "TenIntegers = c_int * 10  # 定义一个int[10]的类型（类）\n",
    "\n",
    "ii = TenIntegers(1, 2, 3, 4, 5, 6, 7, 8, 9, 10)  #显式初始化数组(类)\n",
    "for i in ii:\n",
    "    print(i)"
   ]
  },
  {
   "cell_type": "code",
   "execution_count": 10,
   "metadata": {},
   "outputs": [
    {
     "data": {
      "text/plain": [
       "[0, 0, 3, 0, 0, 0, 0, 0, 0, 0]"
      ]
     },
     "execution_count": 10,
     "metadata": {},
     "output_type": "execute_result"
    }
   ],
   "source": [
    "#高维数组,即数组的数组。\n",
    "type_int_array_10 = c_int * 10  #先定义一个数组类型\n",
    "type_int_array_10_10 = type_int_array_10 * 10  #定义数组的数组（即二维数组）\n",
    "my_array = type_int_array_10_10()  #创建二维数组对象\n",
    "my_array[1][2] = 3\n",
    "list(my_array[1])"
   ]
  },
  {
   "cell_type": "markdown",
   "metadata": {},
   "source": [
    "# 指针和引用"
   ]
  },
  {
   "cell_type": "markdown",
   "metadata": {},
   "source": [
    "有时 C 函数需要一个指针指向的数据作为参数，或想向指针指向的内存块写输出数据，或者数据太大不适合传递，这时就需要使用指针或者引用。\n",
    "\n",
    "ctypes 使用 byref() 函数表示指针概念，该函数也是直接从变量得到指针指向的数据类型。\n",
    "\n",
    "ctypes 中使用 POINTER 和 pointer 表示指针：\n",
    "\n",
    "- 在使用 POINTER 时需要设置指向的数据类型\n",
    "\n",
    "- pointer 则直接从变量中得到一个特定类型的指针。\n",
    "\n",
    "\n",
    "对内存块的使用，实际上是区分输入/输出的：\n",
    "\n",
    "- 如果是该内存块是函数的输入（即函数内部是从内存块读数据），则使用指针，即 POINTER() 或 pointer()。\n",
    "\n",
    "- 如果是该内存块是函数的输出（即函数内部是写数据到内存块），则需使用 create_string_buffer() 函数。"
   ]
  },
  {
   "cell_type": "markdown",
   "metadata": {},
   "source": [
    "## 指针\n",
    "**例如创建一个类似于 C 语言的 int \\*：**"
   ]
  },
  {
   "cell_type": "code",
   "execution_count": 11,
   "metadata": {},
   "outputs": [
    {
     "name": "stdout",
     "output_type": "stream",
     "text": [
      "4\n",
      "c_long(4)\n"
     ]
    }
   ],
   "source": [
    "#创建指针类型,它指向整数\n",
    "type_p_int = POINTER(c_int)\n",
    "\n",
    "#定义一个整数,值为4.\n",
    "v = c_int(4)\n",
    "#给一个指针变量(p_int)赋值(为变量v的地址).\n",
    "p_int = type_p_int(v)\n",
    "\n",
    "print(p_int[0])\n",
    "print(p_int.contents)  #指针实例有一个contents属性，返回这个指针所指向的对象。"
   ]
  },
  {
   "cell_type": "markdown",
   "metadata": {},
   "source": [
    "上面这段代码在 C 语言里相当于：\n",
    "\n",
    "```c\n",
    "typedef int * type_p_int;\n",
    "int v = 4;\n",
    "type_p_int p = &v;\n",
    "printf(\"%d\",p[0]);\n",
    "printf(\"%d\",*p);\n",
    "```"
   ]
  },
  {
   "cell_type": "markdown",
   "metadata": {},
   "source": [
    "**也可以不经过声明指针类型这一步，直接从变量得到指针，如下：**"
   ]
  },
  {
   "cell_type": "code",
   "execution_count": 12,
   "metadata": {},
   "outputs": [
    {
     "name": "stdout",
     "output_type": "stream",
     "text": [
      "4\n",
      "c_long(4)\n"
     ]
    }
   ],
   "source": [
    "#定义一个整数,值为4.\n",
    "v = c_int(4)\n",
    "#直接得到v的指针，不需创建指针类型（省去类型声明）。\n",
    "\n",
    "p_int = pointer(v)\n",
    "print(p_int[0])\n",
    "print(p_int.contents)"
   ]
  },
  {
   "cell_type": "markdown",
   "metadata": {},
   "source": [
    "---\n",
    "\n",
    "**注意：对指针类型 c_char_p，c_wchar_p，c_void_p 的赋值将会改变其指向的内存区域地址，而不是改变内存块的值(因为 Python 字符串是只读的）。**"
   ]
  },
  {
   "cell_type": "markdown",
   "metadata": {},
   "source": [
    "**byref()**\n",
    "\n",
    "ctypes 使用 byref() 函数传递参数引用。\n",
    "通常使用 byref()的地方同样也可用指针函数 pointer()，但 pointer()作为参数通常会额外创建一个指针对象，\n",
    "如果并不需要再次使用该指针对象的话，使用 byref() 会更快。\n",
    "\n",
    "---"
   ]
  },
  {
   "cell_type": "markdown",
   "metadata": {},
   "source": [
    "**内存块**\n",
    "\n",
    "各种指针类型（c_char_p，c_wchar_p，c_void_p）指向的内存块实际上都是只读的。\n",
    "如果某个函数需要一个输入内存块保存输出值，不能传递这些指针。\n",
    "我们需要一个可写的内存块，使用 create_string_buffer()**开辟内存空间。**"
   ]
  },
  {
   "cell_type": "code",
   "execution_count": 13,
   "metadata": {
    "scrolled": true
   },
   "outputs": [
    {
     "name": "stdout",
     "output_type": "stream",
     "text": [
      "3 b'\\x00\\x00\\x00'\n"
     ]
    }
   ],
   "source": [
    "#创建3字节长的buf，且初始化为0\n",
    "p = create_string_buffer(3)\n",
    "print(sizeof(p), repr(p.raw))"
   ]
  },
  {
   "cell_type": "code",
   "execution_count": 14,
   "metadata": {},
   "outputs": [
    {
     "name": "stdout",
     "output_type": "stream",
     "text": [
      "6 b'Hello\\x00'\n"
     ]
    }
   ],
   "source": [
    "#创建一个字符串(包括结尾的0)的buf\n",
    "p = create_string_buffer(b\"Hello\")\n",
    "print(sizeof(p), repr(p.raw))"
   ]
  },
  {
   "cell_type": "code",
   "execution_count": 15,
   "metadata": {},
   "outputs": [
    {
     "name": "stdout",
     "output_type": "stream",
     "text": [
      "10 b'Hello\\x00\\x00\\x00\\x00\\x00'\n"
     ]
    }
   ],
   "source": [
    "p = create_string_buffer(b\"Hello\", 10)\n",
    "print(sizeof(p), repr(p.raw))"
   ]
  },
  {
   "cell_type": "code",
   "execution_count": 16,
   "metadata": {},
   "outputs": [
    {
     "name": "stdout",
     "output_type": "stream",
     "text": [
      "10 b'Hi\\x00lo\\x00\\x00\\x00\\x00\\x00'\n"
     ]
    }
   ],
   "source": [
    "#修改buf内容（这是可变buf）\n",
    "p.value = b\"Hi\"\n",
    "#输出10 'Hi\\x00lo\\x00\\x00\\x00\\x00\\x00'\n",
    "print(sizeof(p), repr(p.raw))"
   ]
  },
  {
   "cell_type": "code",
   "execution_count": 17,
   "metadata": {
    "scrolled": true
   },
   "outputs": [
    {
     "name": "stdout",
     "output_type": "stream",
     "text": [
      "6\n"
     ]
    }
   ],
   "source": [
    "#创建一个unicode使用的buf，且初始化为0\n",
    "pw = create_unicode_buffer(3)\n",
    "\n",
    "#注意，这里将输出6。\n",
    "print(sizeof(pw))"
   ]
  },
  {
   "cell_type": "markdown",
   "metadata": {},
   "source": [
    "**想要创建包含 unicode 字符(对应 C 类型 wchar_t)的可变内存块，使用 create_unicode_buffer() 函数。**\n",
    "\n",
    "---"
   ]
  },
  {
   "cell_type": "markdown",
   "metadata": {},
   "source": [
    "# 类型转换"
   ]
  },
  {
   "cell_type": "markdown",
   "metadata": {},
   "source": [
    "通常情况下，ctypes 会做严格的类型检查。这意味着，如果形参有一个 POINTER(c_int)指针指向一个函数或者结构体的成员域类型，那么实参只能接受相同类型的实例。\n",
    "但这个规则也有例外。比如，你可以传递兼容的数组类型来代替指针类型。**例如对于 POINTER(c_int)指针类型来说，可以使用 c_int 数组来代替。**"
   ]
  },
  {
   "cell_type": "code",
   "execution_count": 18,
   "metadata": {},
   "outputs": [
    {
     "name": "stdout",
     "output_type": "stream",
     "text": [
      "1\n",
      "2\n",
      "3\n"
     ]
    }
   ],
   "source": [
    "class Bar(Structure):\n",
    "    _fields_ = [(\"count\", c_int), (\"values\", POINTER(c_int))]\n",
    "\n",
    "\n",
    "bar = Bar()\n",
    "bar.values = (c_int * 3)(1, 2, 3)  #数组和指针的转化\n",
    "bar.count = 3\n",
    "for i in range(bar.count):\n",
    "    print(bar.values[i])\n",
    "\n",
    "bar.values = None  #设置指针为NULL"
   ]
  },
  {
   "cell_type": "markdown",
   "metadata": {},
   "source": [
    "如果一个函数参数显式声明为某种指针类型（例如 POINT(c_int) 类型），则传递该指针指向的对象类型也是可以的（例如这里可以传递 c_int），ctypes 会**自动加上 byref()函数**进行类型转换。\n",
    "\n",
    "在 C 语言中，你可以通过强制类型转换的方法来转换不兼容的类型。ctypes 也提供了一个**转换函数 cast()**让你可以使用相同的方式进行类型转换。\n",
    "cast()函数可以将一个 ctypes 指针（或数组）的实例转换成另外一个不同的指针类型（或数组）。cast()函数需要两个参数，第一个是转换前的**指针实例**，\n",
    "第二个是目标**指针类型**。它返回第二个参数类型的实例，并且这个实例与第一个参数共用同一块内存。\n",
    "\n",
    "上面定义的 Bar 结构体中，它的 value 域可以支持 POINTER(c_int)指针或者 c_int 数组，但不支持其他类型，如果需要其它类型，则可使用类型转换。"
   ]
  },
  {
   "cell_type": "code",
   "execution_count": 19,
   "metadata": {},
   "outputs": [
    {
     "ename": "TypeError",
     "evalue": "incompatible types, c_byte_Array_4 instance instead of LP_c_long instance",
     "output_type": "error",
     "traceback": [
      "\u001b[1;31m---------------------------------------------------------------------------\u001b[0m",
      "\u001b[1;31mTypeError\u001b[0m                                 Traceback (most recent call last)",
      "\u001b[1;32m<ipython-input-19-ae82e5f73e4b>\u001b[0m in \u001b[0;36m<module>\u001b[1;34m\u001b[0m\n\u001b[0;32m      1\u001b[0m \u001b[1;31m#报错，类型不对。需要 int * 或 int 数组。这里是byte数组。\u001b[0m\u001b[1;33m\u001b[0m\u001b[1;33m\u001b[0m\u001b[1;33m\u001b[0m\u001b[0m\n\u001b[1;32m----> 2\u001b[1;33m \u001b[0mbar\u001b[0m\u001b[1;33m.\u001b[0m\u001b[0mvalues\u001b[0m \u001b[1;33m=\u001b[0m \u001b[1;33m(\u001b[0m\u001b[0mc_byte\u001b[0m \u001b[1;33m*\u001b[0m \u001b[1;36m4\u001b[0m\u001b[1;33m)\u001b[0m\u001b[1;33m(\u001b[0m\u001b[1;33m)\u001b[0m\u001b[1;33m\u001b[0m\u001b[1;33m\u001b[0m\u001b[0m\n\u001b[0m",
      "\u001b[1;31mTypeError\u001b[0m: incompatible types, c_byte_Array_4 instance instead of LP_c_long instance"
     ]
    }
   ],
   "source": [
    "#报错，类型不对。需要 int * 或 int 数组。这里是byte数组。\n",
    "bar.values = (c_byte * 4)()"
   ]
  },
  {
   "cell_type": "code",
   "execution_count": 20,
   "metadata": {},
   "outputs": [
    {
     "name": "stdout",
     "output_type": "stream",
     "text": [
      "0\n"
     ]
    }
   ],
   "source": [
    "#正确。强制转换,把byte数组转化为int*\n",
    "bar.values = cast((c_byte * 4)(), POINTER(c_int))\n",
    "\n",
    "print(bar.values[0])"
   ]
  },
  {
   "cell_type": "code",
   "execution_count": 21,
   "metadata": {},
   "outputs": [
    {
     "data": {
      "text/plain": [
       "<function ctypes.CFUNCTYPE(restype, *argtypes, **kw)>"
      ]
     },
     "execution_count": 21,
     "metadata": {},
     "output_type": "execute_result"
    }
   ],
   "source": [
    "CFUNCTYPE"
   ]
  },
  {
   "cell_type": "markdown",
   "metadata": {},
   "source": [
    "# 回调函数\n",
    "\n",
    "types 允许从 python 回调中创建 c 回调函数指针。这个常常被称为回调函数。\n",
    "\n",
    "首先，你必须为回调函数创建一个类，这个类知道**调用协议，函数返回值类型，函数接受的参数个数及类型。**\n",
    "\n",
    "CFUNCTYPE 工厂函数使用普通 cdecl 调用协议来为回调函数创建类型。并且，在 Windows 平台，WINFUNCTYPE 工厂函数使用 stdcall 调用协议来为回调函数创建类型。\n",
    "这两个工厂函数在调用时，参数表都是使用返回值作为第一个参数，而将回调函数所需要的参数作为剩下的参数。\n",
    "\n",
    "在这里我将使用一个 c 标准库里的快排函数作为演示例子，快排是一个借助回调函数进行排序的函数。快排将会用到下面的整型数组：\n",
    "\n",
    "```python\n",
    "\n",
    "CMPFUNC = CFUNCTYPE(c_int, POINTER(c_int), POINTER(c_int)) #定义回调函数类型\n",
    "\n",
    "def py_cmp_func(a, b): #实现回调函数功能\n",
    "      print(\"py_cmp_func\", a[0], b[0])\n",
    "      return a[0] - b[0]\n",
    "\n",
    "cmp_func = CMPFUNC(py_cmp_func)  #回调函数对象\n",
    "\n",
    "IntArray5 = c_int*5\n",
    "ia = IntArray5(5, 1, 7, 33, 99)\n",
    "qsort = libc.qsort      #排序函数地址\n",
    "qsort.restype = None    #排序函数返回值\n",
    "\n",
    "qsort(ia, len(ia), sizeof(c_int), CMPFUNC(py_cmp_func)) #调用排序函数,传入一个回调函数对象.\n",
    "\n",
    "for i in ia:\n",
    "  print(i, end=\" \")\n",
    "\n",
    "#输出结果为： 1 5 7 33 99\n",
    "```\n"
   ]
  },
  {
   "cell_type": "markdown",
   "metadata": {},
   "source": [
    "**回调函数的重要提示：**\n",
    "\n",
    "确保你在 C 代码的使用生命周期里保持引用 CFUNCTYPE 对象。ctypes 并不会帮你做这样的事情，如果你没有做保证，它们就会被垃圾回收，然后当你调用这个回调函数时将会导致程序崩溃。"
   ]
  },
  {
   "cell_type": "markdown",
   "metadata": {},
   "source": [
    "# windows 类型\n",
    "\n",
    "Windows API 有一些特殊之处，Windows API 函数不使用标准 C 的调用约定（前面已经提到过）。\n",
    "\n",
    "因此需注意两点：\n",
    "\n",
    "- LoadLibrary 时不能够使用 cdll.LoadLibrary 而使用 windll.LoadLibrary。\n",
    "- 在声明回调函数指针类型的时候，不能用 CFUNCTYPE 而是用 WINFUNCTYPE。\n",
    "\n",
    "Windows API 有很多内建类型，ctypes 内部都已经定义好了，在子模块 wintypes 下，可以直接使用。\n",
    "\n",
    "代码举例如下："
   ]
  },
  {
   "cell_type": "code",
   "execution_count": 69,
   "metadata": {
    "code_folding": [
     4
    ],
    "scrolled": true
   },
   "outputs": [
    {
     "name": "stdout",
     "output_type": "stream",
     "text": [
      "\n",
      "Forcepad driver tray window\n",
      "\n",
      "Syn Zoom Window\n",
      "Syn Visual Window\n",
      "\n",
      "\n",
      "\n",
      "\n",
      "\n",
      "\n",
      "\n",
      "\n",
      "\n",
      "\n",
      "\n",
      "\n",
      "CandidateWindow\n",
      "\n",
      "\n",
      "\n",
      "\n",
      "\n",
      "\n",
      "\n",
      "电池指示器\n",
      "\n",
      "Network Flyout\n",
      "\n",
      "将下载链接拖至窗口即可开始下载\n",
      "\n",
      "\n",
      "\n",
      "\n",
      "微信\n",
      "Tooltip\n",
      "CandidateWindow\n",
      "Mode Indicator\n",
      "Mode Indicator\n",
      "Mode Indicator\n",
      "CandidateWindow\n",
      "Mode Indicator\n",
      "Mode Indicator\n",
      "Mode Indicator\n",
      "\n",
      "\n",
      "\n",
      "\n",
      "\n",
      "\n",
      "\n",
      "CandidateWindow\n",
      "Mode Indicator\n",
      "Mode Indicator\n",
      "Mode Indicator\n",
      "\n",
      "ctypes 使用 - Google Chrome\n",
      "在python中检测按键？ - 码客 - Google Chrome\n",
      "tb-gateway [C:\\Users\\Administrator\\Desktop\\git_clone\\tb-gateway] - ...\\total_logic.py [tb-gateway] - PyCharm\n",
      "任务管理器\n",
      "\n",
      "notebook\n",
      "IDM agent for click monitoring in IE-based browsers\n",
      "\n",
      "\n",
      "\n",
      "Internet Download Manager 6.32\n",
      "DDE Server Window\n",
      "smart_robot [C:\\Users\\Administrator\\Desktop\\git_clone\\smart_robot] - ...\\config\\keyboard.py [smart_robot] - PyCharm\n",
      "TIM\n",
      "\n",
      "STATIC\n",
      "\n",
      "\n",
      "FingerDrive.py - Untitled (Workspace) - Visual Studio Code\n",
      "\n",
      "\n",
      "\n",
      "\n",
      "\n",
      "ChatContactMenu\n",
      "微信\n",
      " \n",
      "\n",
      "CandidateWindow\n",
      "\n",
      "\n",
      "\n",
      "\n",
      "\n",
      "\n",
      "\n",
      "\n",
      "\n",
      "\n",
      "\n",
      "\n",
      "Mode Indicator\n",
      "CiceroUIWndFrame\n",
      "桌面歌词\n",
      "\n",
      "\n",
      "Window\n",
      "Window\n",
      "\n",
      "Mode Indicator\n",
      "Mode Indicator\n",
      "Mode Indicator\n",
      "Mode Indicator\n",
      "Mode Indicator\n",
      "Mode Indicator\n",
      "Mode Indicator\n",
      "Mode Indicator\n",
      "Mode Indicator\n",
      "Mode Indicator\n",
      "Mode Indicator\n",
      "Mode Indicator\n",
      "\n",
      "\n",
      "\n",
      "\n",
      "\n",
      "Mode Indicator\n",
      "吃遍全世界 - 刘阳阳\n",
      "\n",
      "\n",
      "theAwtToolkitWindow\n",
      "\n",
      "crash service\n",
      "\n",
      "Code\n",
      "\n",
      "\n",
      "\n",
      "\n",
      "\n",
      "\n",
      "TouchPad object helper window\n",
      "TouchPad object helper window\n",
      "SS_SVR_805BEFFB-595C-4205-8FEC-91B30D0F041A\n",
      "\n",
      "\n",
      "\n",
      "\n",
      "\n",
      "\n",
      "\n",
      "\n",
      "\n",
      "\n",
      "\n",
      "wps\n",
      "\n",
      "\n",
      "\n",
      "wps\n",
      "\n",
      "\n",
      "Microsoft OneDrive\n",
      "\n",
      "\n",
      "G\n",
      "\n",
      "\n",
      "\n",
      "\n",
      "\n",
      "\n",
      "设置\n",
      "设置\n",
      "ms-browser-extension://EdgeExtension_JanBiniokTampermonkey_gz80c7jhhn2hw/background.html\n",
      "Microsoft Edge\n",
      "Microsoft Edge\n",
      "Microsoft Edge\n",
      "Microsoft Edge\n",
      "Microsoft Edge\n",
      "\n",
      "Microsoft Edge\n",
      "\n",
      "\n",
      "\n",
      "\n",
      "Mode Indicator\n",
      "TXMenuWindow\n",
      "TXMenuWindow\n",
      "TXMenuWindow\n",
      "迷你播放器\n",
      "GitKraken\n",
      "\n",
      "\n",
      "crash service\n",
      "\n",
      "\n",
      "\n",
      "\n",
      "\n",
      "\n",
      "MyWing\n",
      "WndForAero\n",
      "Mode Indicator\n",
      "62558AD3-5226-8788-7545-87B6BA58A32C\n",
      "\n",
      "CiceroUIWndFrame\n",
      "\n",
      "SmartAudio\n",
      "Hidden Window\n",
      ".NET-BroadcastEventWindow.4.0.0.0.1ca0192.0\n",
      "MediaContextNotificationWindow\n",
      "\n",
      "SystemResourceNotifyWindow\n",
      "\n",
      "吃遍全世界 - 刘阳阳\n",
      "\n",
      "\n",
      "\n",
      "\n",
      "\n",
      "\n",
      "\n",
      "Communication Engine Client\n",
      "\n",
      "\n",
      "\n",
      "\n",
      "印象笔记 更新\n",
      "\n",
      "\n",
      "\n",
      "\n",
      "\n",
      "\n",
      "\n",
      "\n",
      "\n",
      "\n",
      "\n",
      "\n",
      "\n",
      "\n",
      "G\n",
      "\n",
      "\n",
      "\n",
      "\n",
      "\n",
      "\n",
      "\n",
      "G\n",
      "HDAudioAPI-D9A3021B-9BCE-458C-B667-9029C4EF4050\n",
      "\n",
      "38B6F1A3-93D7-22D1-1A4E-D426C518963B\n",
      "\n",
      "\n",
      "\n",
      "\n",
      "\n",
      "G\n",
      "DesktopMonitorNotifyWnd_Name\n",
      "qqexchangewnd_shortcut_prefix_1343837706\n",
      "Wnd_A840DFB8-1F0E-41A9-A9E6-1F99646D06CD\n",
      "TIM_1343837706_32856F50-AA9A-4388-A3C1-AE5C00A61C43\n",
      "AB0B3F91-DE0F-48EE-B1A1-461540FE1BBB\n",
      "MyWing\n",
      "MyWing\n",
      "MyWing\n",
      "MyWing\n",
      "\n",
      "\n",
      "\n",
      "MyWing\n",
      "\n",
      "E72C6EAA-E6A2-404D-B469-5574831884D1\n",
      "\n",
      "P1RIMdsdfEMawND\n",
      "MyWing\n",
      "im event window\n",
      "C777F873-4A84-48DC-9AEE-64B62558A62A\n",
      "aPRsIdMEMwND\n",
      "C777F873-4A84-48DC-9AEE-64B62558A62A_1504\n",
      "807189C9-A8A2-4B2D-BC8C-6D1B33153FEF\n",
      "C626F873-5966-9677-EE99-69763329792A\n",
      "MyWing\n",
      "MyWing\n",
      "\n",
      "CandidateWindow\n",
      "Mode Indicator\n",
      "Conexant ADR Agent\n",
      "\n",
      "G\n",
      "\n",
      "SoftwareMonitor\n",
      "CSpNotify Notify Window\n",
      "PwrMgrBkGndWindow\n",
      "\n",
      "DDE Server Window\n",
      "\n",
      "\n",
      "\n",
      "\n",
      "\n",
      "\n",
      "\n",
      "\n",
      "\n",
      "\n",
      "BluetoothNotificationAreaIconWindowClass\n",
      "MS_WebcheckMonitor\n",
      "HiddenFaxWindow\n",
      "\n",
      "\n",
      "\n",
      "\n",
      "\n",
      "\n",
      "\n",
      "\n",
      "\n",
      "\n",
      "\n",
      "\n",
      "\n",
      "YXListenerWindow\n",
      "The Event Manager Dashboard\n",
      "\n",
      "\n",
      "\n",
      "\n",
      "\n",
      "Windows Push Notifications Platform\n",
      "Task Host Window\n",
      "Touchpad driver tray icon window\n",
      "TouchPad object helper window\n",
      "Touchpad driver helper window\n",
      "Touchpad driver backward compatibility window\n",
      "\n",
      "DWM Notification Window\n",
      "\n",
      "\n",
      "G\n",
      "\n",
      "\n",
      "\n",
      "{30A1588D-127B-4CC0-BA47-B11825F07731}\n",
      "\n",
      "CMsgWnd\n",
      "ProtectMain\n",
      "LenovoTray\n",
      "\n",
      "DDE Server Window\n",
      "G\n",
      "OneDrive - business\n",
      "\n",
      "Microsoft OneNote 2016 - Windows 任务栏\n",
      "MyWing\n",
      "Mode Indicator\n",
      "2019.07 - 188*****150 - 印象笔记\n",
      "已完成 100%\n",
      "\n",
      "Program Manager\n",
      "MSCTFIME UI\n",
      "Default IME\n",
      "Default IME\n",
      "MSCTFIME UI\n",
      "Default IME\n",
      "MSCTFIME UI\n",
      "Default IME\n",
      "MSCTFIME UI\n",
      "Default IME\n",
      "Default IME\n",
      "MSCTFIME UI\n",
      "Default IME\n",
      "MSCTFIME UI\n",
      "Default IME\n",
      "MSCTFIME UI\n",
      "Default IME\n",
      "MSCTFIME UI\n",
      "Default IME\n",
      "MSCTFIME UI\n",
      "Default IME\n",
      "MSCTFIME UI\n",
      "Default IME\n",
      "Default IME\n",
      "MSCTFIME UI\n",
      "MSCTFIME UI\n",
      "Default IME\n",
      "Default IME\n",
      "Default IME\n",
      "Default IME\n",
      "MSCTFIME UI\n",
      "Default IME\n",
      "MSCTFIME UI\n",
      "Default IME\n",
      "Default IME\n",
      "Default IME\n",
      "Default IME\n",
      "MSCTFIME UI\n",
      "Default IME\n",
      "Default IME\n",
      "Default IME\n",
      "Default IME\n",
      "Default IME\n",
      "Default IME\n",
      "Default IME\n",
      "Default IME\n",
      "Default IME\n",
      "Default IME\n",
      "Default IME\n",
      "Default IME\n",
      "Default IME\n",
      "MSCTFIME UI\n",
      "Default IME\n",
      "Default IME\n",
      "Default IME\n",
      "Default IME\n",
      "Default IME\n",
      "Default IME\n",
      "MSCTFIME UI\n",
      "Default IME\n",
      "MSCTFIME UI\n",
      "Default IME\n",
      "Default IME\n",
      "Default IME\n",
      "Default IME\n",
      "Default IME\n",
      "Default IME\n",
      "Default IME\n",
      "Default IME\n",
      "Default IME\n",
      "Default IME\n",
      "MSCTFIME UI\n",
      "Default IME\n",
      "Default IME\n",
      "Default IME\n",
      "Default IME\n",
      "Default IME\n",
      "Default IME\n",
      "Default IME\n",
      "Default IME\n",
      "Default IME\n",
      "Default IME\n",
      "MSCTFIME UI\n",
      "Default IME\n",
      "Default IME\n",
      "Default IME\n",
      "MSCTFIME UI\n",
      "Default IME\n",
      "Default IME\n",
      "MSCTFIME UI\n",
      "Default IME\n",
      "Default IME\n",
      "Default IME\n",
      "Default IME\n",
      "Default IME\n",
      "Default IME\n",
      "Default IME\n",
      "Default IME\n",
      "Default IME\n",
      "Default IME\n",
      "Default IME\n",
      "Default IME\n",
      "Default IME\n",
      "Default IME\n",
      "Default IME\n",
      "Default IME\n",
      "Default IME\n",
      "Default IME\n",
      "Default IME\n",
      "Default IME\n",
      "Default IME\n",
      "Default IME\n",
      "Default IME\n",
      "Default IME\n",
      "Default IME\n",
      "Default IME\n",
      "Default IME\n",
      "Default IME\n",
      "Default IME\n",
      "Default IME\n",
      "Default IME\n",
      "Default IME\n",
      "MSCTFIME UI\n",
      "MSCTFIME UI\n",
      "Default IME\n",
      "Default IME\n",
      "Default IME\n",
      "Default IME\n",
      "MSCTFIME UI\n",
      "Default IME\n",
      "Default IME\n",
      "Default IME\n",
      "Default IME\n",
      "Default IME\n",
      "Default IME\n",
      "Default IME\n",
      "Default IME\n",
      "MSCTFIME UI\n",
      "Default IME\n",
      "MSCTFIME UI\n",
      "Default IME\n"
     ]
    },
    {
     "data": {
      "text/plain": [
       "1"
      ]
     },
     "execution_count": 69,
     "metadata": {},
     "output_type": "execute_result"
    }
   ],
   "source": [
    "from ctypes import *\n",
    "from ctypes import wintypes\n",
    "\n",
    "# HWND 等类型已定义好了，可直接使用.\n",
    "WNDENUMPROC = WINFUNCTYPE(wintypes.BOOL,  #定义回调函数类型\n",
    "                          wintypes.HWND, \n",
    "                          wintypes.LPARAM)\n",
    "\n",
    "def EnumWindowsProc(hwnd, lParam):#实现回调函数功能\n",
    "    length = user32.GetWindowTextLengthW(hwnd) + 1\n",
    "    buffer = create_unicode_buffer(length)\n",
    "    user32.GetWindowTextW(hwnd, buffer, length)\n",
    "    print(buffer.value)\n",
    "    return True\n",
    "\n",
    "user32 = windll.LoadLibrary('user32.dll')    #加载dll\n",
    "user32.EnumWindows(WNDENUMPROC(EnumWindowsProc), 0)"
   ]
  },
  {
   "cell_type": "markdown",
   "metadata": {},
   "source": [
    "# 结构体指针\n",
    "\n",
    "返回结构体指针的函数. c 代码如下:\n",
    "\n",
    "```c\n",
    "include <stdlib.h>\n",
    "typedef struct{\n",
    "  int a;\n",
    "  int b;\n",
    "}mystruct;\n",
    "\n",
    "mystruct * create(){\n",
    "  mystruct * s = (mystruct *)calloc(1, sizeof(mystruct));\n",
    "  s->a = 100;\n",
    "  s->b = 200;\n",
    "  return s;\n",
    "}\n",
    "\n",
    "void destroy(mystruct * s){\n",
    "  free(s);\n",
    "}\n",
    "```\n",
    "\n",
    "python 代码如下：\n",
    "\n",
    "```python\n",
    "from ctypes import *  \n",
    "class mystruct(Structure):\n",
    "    _fields_ = [('a', c_int),('b', c_int)]\n",
    "\n",
    "dll = cdll.LoadLibrary(dllpath) \n",
    "dll.create.restype = POINTER(mystruct) #设置返回值类型为结构体指针\n",
    "p = dll.create() #调用函数\n",
    "print(p.contents.a,p.contents.b) #输出 100 200\n",
    "```\n",
    "\n",
    "如果返回的是结构体数组指针，同样也是将函数返回类型设置为结构体指针，在接收到值之后，使用时加上下标即可,注意是结构体数组指针，不是结构体指针数组\n",
    "\n",
    "python 代码如下：\n",
    "\n",
    "```python\n",
    "from ctypes import *  \n",
    "class mystruct(Structure):\n",
    "    _fields_ = [('a', c_int),('b', c_int)]\n",
    "\n",
    "dll = cdll.LoadLibrary(dllpath) \n",
    "dll.create.restype = POINTER(mystruct) #设置返回值类型为结构体指针\n",
    "p = dll.create() #调用函数\n",
    "print(p[i].a,p[i].b) #注意是结构体数组指针，不是结构体指针数组，不然应该还需要\n",
    "```"
   ]
  },
  {
   "cell_type": "markdown",
   "metadata": {},
   "source": [
    "**如果是向函数内部传入一个结构体数组指针，而函数需要改变此结构体的内存，则可以作如下处理：**\n",
    "\n",
    "返回结构体指针参数的函数. c 代码如下:\n",
    "\n",
    "```c\n",
    "include <stdlib.h>\n",
    "typedef struct{\n",
    "  int a;\n",
    "  int b;\n",
    "}mystruct;\n",
    "\n",
    " int change(mystruct*stru,int*num){\n",
    "\n",
    "     for(i＝０;i < 3;i++)\n",
    "      {\n",
    "       stru[i].a = i;\n",
    "       stru[i].b = i+1;\n",
    "      }\n",
    "\n",
    "      int n_num = 2;\n",
    "      num = &n_num;\n",
    "      return 0;\n",
    "}\n",
    "```\n",
    "\n",
    "python 代码如下：\n",
    "\n",
    "```python\n",
    "from ctypes import *  \n",
    "class mystruct(Structure):\n",
    "    _fields_ = [('a', c_int),('b', c_int)]\n",
    "dll = cdll.LoadLibrary(dllpath) \n",
    "stru_info= create_string_buffer(sizeof(mystruct) * NUM)\n",
    "p_rec = POINTER(mystruct)(stru_info)\n",
    "info_num = c_int()\n",
    "ret = dll.create(p_rec, byref(info_num)) #调用函数\n",
    "print(p_rec[i],p_rec[i].b)\n",
    "```"
   ]
  },
  {
   "cell_type": "markdown",
   "metadata": {},
   "source": [
    "**同理，如果创建int类型的数组内存，则可以用**\n",
    "\n",
    "```python\n",
    "int_buffer = create_string_buffer(sizeof(c_int) * NUM)\n",
    "p_int_buffer = POINTER(c_int)(int_buffer)\n",
    "```\n",
    "\n",
    "传递参数时直接使用p_int_buffer使用时直接p_int_buffer[i]取值即可"
   ]
  },
  {
   "cell_type": "markdown",
   "metadata": {},
   "source": [
    "**如果是向函数内部传入一个结构体数组指针，而函数不需要改变此结构体的内存，则可以作如下处理：**\n",
    "\n",
    "c代码如下:\n",
    "\n",
    "```c\n",
    "include <stdlib.h>\n",
    "typedef struct{\n",
    "  int a;\n",
    "  int b;\n",
    "}mystruct;\n",
    "\n",
    " int change(mystruct*stru,int num){\n",
    "\n",
    " for(i＝０;i < num;i++)\n",
    "  {\n",
    "   cout<<stru[i].a<<endl;\n",
    "   cout<<stru[i].b<<endl;\n",
    "  }\n",
    "  \n",
    "  return 0;\n",
    "}\n",
    "```\n",
    "\n",
    "python 代码如下：\n",
    "\n",
    "```python\n",
    "from ctypes import *  \n",
    "class mystruct(Structure):\n",
    "    _fields_ = [('a', c_int),('b', c_int)]\n",
    "dll = cdll.LoadLibrary(dllpath) \n",
    "info_num = 3\n",
    "stru_info_list = []#添加一些结构体，此处略去\n",
    "stru_info_p = (mystruct*info_num)(*stru_info_list)\n",
    "num = c_int(info_num)\n",
    "ret = dll.create(byref(strstru_info_p), num) #调用函数\n",
    "print(p_rec[i],p_rec[i].b)\n",
    "\n",
    "同理，如果只是传递一个数组指针，不需要改变内容的话，假设传第一个int数组：\n",
    "int_list = []\n",
    "num = len(int_list)\n",
    "p_int_list = (c_int*num)(*int_list)\n",
    "```\n",
    "\n",
    "# 解析\n",
    "上述例子中，如果创建int类型的数组内存\n",
    "假设c函数是int fun（int*buffer_list）#传递的是int数组的指针\n",
    "\n",
    "int_buffer = create_string_buffer(sizeof(c_int) * NUM)\n",
    "如果直接传递的参数为byref（int_buffer）\n",
    "即：ret = dll.fun（byref（int_buffer））\n",
    "\n",
    "那么对于int_buffer的使用就需要解析\n",
    "首先需要取int_buffer得二进制内容，即int_buffer.raw，然后解析\n",
    "buffer = int_buffer.raw\n",
    "buffer_int = (struct.unpack('i', buffer[i * 4 : (i + 1) * 4]))[0]\n"
   ]
  }
 ],
 "metadata": {
  "kernelspec": {
   "display_name": "Python 3",
   "language": "python",
   "name": "python3"
  },
  "language_info": {
   "codemirror_mode": {
    "name": "ipython",
    "version": 3
   },
   "file_extension": ".py",
   "mimetype": "text/x-python",
   "name": "python",
   "nbconvert_exporter": "python",
   "pygments_lexer": "ipython3",
   "version": "3.7.2"
  },
  "toc": {
   "base_numbering": 1,
   "nav_menu": {},
   "number_sections": true,
   "sideBar": true,
   "skip_h1_title": false,
   "title_cell": "Table of Contents",
   "title_sidebar": "Contents",
   "toc_cell": false,
   "toc_position": {},
   "toc_section_display": true,
   "toc_window_display": true
  },
  "varInspector": {
   "cols": {
    "lenName": 16,
    "lenType": 16,
    "lenVar": 40
   },
   "kernels_config": {
    "python": {
     "delete_cmd_postfix": "",
     "delete_cmd_prefix": "del ",
     "library": "var_list.py",
     "varRefreshCmd": "print(var_dic_list())"
    },
    "r": {
     "delete_cmd_postfix": ") ",
     "delete_cmd_prefix": "rm(",
     "library": "var_list.r",
     "varRefreshCmd": "cat(var_dic_list()) "
    }
   },
   "position": {
    "height": "128px",
    "left": "1042px",
    "right": "20px",
    "top": "120px",
    "width": "304px"
   },
   "types_to_exclude": [
    "module",
    "function",
    "builtin_function_or_method",
    "instance",
    "_Feature"
   ],
   "window_display": false
  }
 },
 "nbformat": 4,
 "nbformat_minor": 2
}
