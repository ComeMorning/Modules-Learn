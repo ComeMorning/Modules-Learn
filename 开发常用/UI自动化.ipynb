{
 "cells": [
  {
   "cell_type": "markdown",
   "metadata": {},
   "source": [
    "# PyAutoIt\n",
    "\n",
    "```sh\n",
    "pip install PyAutoIt\n",
    "```\n",
    "\n",
    "- [项目地址](https://github.com/jacexh/pyautoit)\n",
    "\n",
    "## 优点\n",
    "\n",
    "- 调用AutoItX3.dll实现\n",
    "- 模拟点击不需要移动鼠标\n",
    "- 获取文本框文字简单，比win32好一万倍\n",
    "\n",
    "## 缺点\n",
    "\n",
    "- 文档较少，有些方法的使用没有参数说明，很不友好\n"
   ]
  },
  {
   "cell_type": "markdown",
   "metadata": {},
   "source": [
    "# uiautomation \n",
    "\n",
    "```sh\n",
    "pip install uiautomation\n",
    "```\n",
    "- [项目介绍](https://github.com/yinkaisheng/Python-UIAutomation-for-Windows/blob/master/readme_cn.md)\n",
    "\n",
    "- [使用方法](https://blog.csdn.net/chenmozhe22/article/details/106926071)\n",
    "\n",
    "## 优点\n",
    "\n",
    "- 文档、示例较为完善\n",
    "- 方法命名规范，易使用，还有类型注释\n",
    "- 适合模拟常规用户动作行为\n",
    "- 定位语法简单，配合`UISpy.exe` 检查窗体Controller类型方便\n",
    "\n",
    "## 缺点\n",
    "\n",
    "- 当定位层次较深的时候，对象属性和操作会抛出搜索超时的异常，及其难受\n",
    "- 如上\n",
    "- 比较慢\n"
   ]
  },
  {
   "cell_type": "markdown",
   "metadata": {},
   "source": [
    "# pywinauto\n",
    "\n",
    "- [项目地址](https://github.com/pywinauto)\n",
    "- [官方文档](https://www.kancloud.cn/gnefnuy/pywinauto_doc)\n",
    "- [中文文档](https://www.kancloud.cn/gnefnuy/pywinauto_doc)\n",
    "- [教程](https://blog.csdn.net/bluewhu/article/details/105496599?utm_medium=distribute.pc_aggpage_search_result.none-task-blog-2~all~first_rank_v2~rank_v25-1-105496599.nonecase&utm_term=pywinauto%20%E8%8E%B7%E5%8F%96%E7%AA%97%E5%8F%A3%E6%96%87%E5%AD%97)\n",
    "\n",
    "灵活、功能强大，上手难度较高"
   ]
  }
 ],
 "metadata": {
  "kernelspec": {
   "display_name": "Python 3",
   "language": "python",
   "name": "python3"
  },
  "language_info": {
   "codemirror_mode": {
    "name": "ipython",
    "version": 3
   },
   "file_extension": ".py",
   "mimetype": "text/x-python",
   "name": "python",
   "nbconvert_exporter": "python",
   "pygments_lexer": "ipython3",
   "version": "3.7.3"
  },
  "toc": {
   "base_numbering": 1,
   "nav_menu": {},
   "number_sections": true,
   "sideBar": true,
   "skip_h1_title": false,
   "title_cell": "Table of Contents",
   "title_sidebar": "Contents",
   "toc_cell": false,
   "toc_position": {},
   "toc_section_display": true,
   "toc_window_display": false
  },
  "varInspector": {
   "cols": {
    "lenName": 16,
    "lenType": 16,
    "lenVar": 40
   },
   "kernels_config": {
    "python": {
     "delete_cmd_postfix": "",
     "delete_cmd_prefix": "del ",
     "library": "var_list.py",
     "varRefreshCmd": "print(var_dic_list())"
    },
    "r": {
     "delete_cmd_postfix": ") ",
     "delete_cmd_prefix": "rm(",
     "library": "var_list.r",
     "varRefreshCmd": "cat(var_dic_list()) "
    }
   },
   "types_to_exclude": [
    "module",
    "function",
    "builtin_function_or_method",
    "instance",
    "_Feature"
   ],
   "window_display": false
  }
 },
 "nbformat": 4,
 "nbformat_minor": 2
}
